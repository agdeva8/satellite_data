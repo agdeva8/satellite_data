{
 "cells": [
  {
   "cell_type": "code",
   "execution_count": 1,
   "metadata": {
    "collapsed": true
   },
   "outputs": [],
   "source": [
    "import datetime as dt"
   ]
  },
  {
   "cell_type": "code",
   "execution_count": 2,
   "metadata": {
    "scrolled": true
   },
   "outputs": [
    {
     "name": "stdout",
     "output_type": "stream",
     "text": [
      "Using matplotlib backend: Qt5Agg\n",
      "Populating the interactive namespace from numpy and matplotlib\n"
     ]
    }
   ],
   "source": [
    "import pandas as pd\n",
    "import numpy as np\n",
    "import matplotlib.pyplot as plt\n",
    "%pylab"
   ]
  },
  {
   "cell_type": "code",
   "execution_count": 3,
   "metadata": {
    "collapsed": true
   },
   "outputs": [],
   "source": [
    "df_elections_dates = pd.read_csv('legislative_elections_dates.csv')"
   ]
  },
  {
   "cell_type": "code",
   "execution_count": 4,
   "metadata": {
    "collapsed": true
   },
   "outputs": [],
   "source": [
    "anom_sd1 = pd.read_excel('Anom_SD1.xlsx')"
   ]
  },
  {
   "cell_type": "code",
   "execution_count": 5,
   "metadata": {},
   "outputs": [
    {
     "data": {
      "text/html": [
       "<div>\n",
       "<style>\n",
       "    .dataframe thead tr:only-child th {\n",
       "        text-align: right;\n",
       "    }\n",
       "\n",
       "    .dataframe thead th {\n",
       "        text-align: left;\n",
       "    }\n",
       "\n",
       "    .dataframe tbody tr th {\n",
       "        vertical-align: top;\n",
       "    }\n",
       "</style>\n",
       "<table border=\"1\" class=\"dataframe\">\n",
       "  <thead>\n",
       "    <tr style=\"text-align: right;\">\n",
       "      <th></th>\n",
       "      <th>Pkey</th>\n",
       "      <th>128</th>\n",
       "      <th>1509</th>\n",
       "      <th>2627</th>\n",
       "      <th>315</th>\n",
       "      <th>2108</th>\n",
       "      <th>527</th>\n",
       "      <th>1132</th>\n",
       "      <th>1209</th>\n",
       "      <th>4823</th>\n",
       "      <th>...</th>\n",
       "      <th>Unnamed: 2308</th>\n",
       "      <th>Unnamed: 2309</th>\n",
       "      <th>Unnamed: 2310</th>\n",
       "      <th>Unnamed: 2311</th>\n",
       "      <th>Unnamed: 2312</th>\n",
       "      <th>Unnamed: 2313</th>\n",
       "      <th>Unnamed: 2314</th>\n",
       "      <th>Unnamed: 2315</th>\n",
       "      <th>Unnamed: 2316</th>\n",
       "      <th>Unnamed: 2317</th>\n",
       "    </tr>\n",
       "  </thead>\n",
       "  <tbody>\n",
       "    <tr>\n",
       "      <th>0</th>\n",
       "      <td>DISTRICT</td>\n",
       "      <td>Adilabad</td>\n",
       "      <td>Agra</td>\n",
       "      <td>Ahmadnagar</td>\n",
       "      <td>Aizawl</td>\n",
       "      <td>Ajmer</td>\n",
       "      <td>Akola</td>\n",
       "      <td>Alappuzha</td>\n",
       "      <td>Aligarh</td>\n",
       "      <td>Alirajpur</td>\n",
       "      <td>...</td>\n",
       "      <td>NaN</td>\n",
       "      <td>NaN</td>\n",
       "      <td>NaN</td>\n",
       "      <td>NaN</td>\n",
       "      <td>NaN</td>\n",
       "      <td>NaN</td>\n",
       "      <td>NaN</td>\n",
       "      <td>NaN</td>\n",
       "      <td>NaN</td>\n",
       "      <td>NaN</td>\n",
       "    </tr>\n",
       "    <tr>\n",
       "      <th>1</th>\n",
       "      <td>DT_CEN_CD</td>\n",
       "      <td>1</td>\n",
       "      <td>15</td>\n",
       "      <td>26</td>\n",
       "      <td>3</td>\n",
       "      <td>21</td>\n",
       "      <td>5</td>\n",
       "      <td>11</td>\n",
       "      <td>12</td>\n",
       "      <td>48</td>\n",
       "      <td>...</td>\n",
       "      <td>NaN</td>\n",
       "      <td>NaN</td>\n",
       "      <td>NaN</td>\n",
       "      <td>NaN</td>\n",
       "      <td>NaN</td>\n",
       "      <td>NaN</td>\n",
       "      <td>NaN</td>\n",
       "      <td>NaN</td>\n",
       "      <td>NaN</td>\n",
       "      <td>NaN</td>\n",
       "    </tr>\n",
       "    <tr>\n",
       "      <th>2</th>\n",
       "      <td>ST_CEN_CD</td>\n",
       "      <td>28</td>\n",
       "      <td>9</td>\n",
       "      <td>27</td>\n",
       "      <td>15</td>\n",
       "      <td>8</td>\n",
       "      <td>27</td>\n",
       "      <td>32</td>\n",
       "      <td>9</td>\n",
       "      <td>23</td>\n",
       "      <td>...</td>\n",
       "      <td>NaN</td>\n",
       "      <td>NaN</td>\n",
       "      <td>NaN</td>\n",
       "      <td>NaN</td>\n",
       "      <td>NaN</td>\n",
       "      <td>NaN</td>\n",
       "      <td>NaN</td>\n",
       "      <td>NaN</td>\n",
       "      <td>NaN</td>\n",
       "      <td>NaN</td>\n",
       "    </tr>\n",
       "    <tr>\n",
       "      <th>3</th>\n",
       "      <td>ST_NM</td>\n",
       "      <td>Andhra Pradesh</td>\n",
       "      <td>Uttar Pradesh</td>\n",
       "      <td>Maharashtra</td>\n",
       "      <td>Mizoram</td>\n",
       "      <td>Rajasthan</td>\n",
       "      <td>Maharashtra</td>\n",
       "      <td>Kerala</td>\n",
       "      <td>Uttar Pradesh</td>\n",
       "      <td>Madhya Pradesh</td>\n",
       "      <td>...</td>\n",
       "      <td>NaN</td>\n",
       "      <td>NaN</td>\n",
       "      <td>NaN</td>\n",
       "      <td>NaN</td>\n",
       "      <td>NaN</td>\n",
       "      <td>NaN</td>\n",
       "      <td>NaN</td>\n",
       "      <td>NaN</td>\n",
       "      <td>NaN</td>\n",
       "      <td>NaN</td>\n",
       "    </tr>\n",
       "    <tr>\n",
       "      <th>4</th>\n",
       "      <td>Label</td>\n",
       "      <td>NaN</td>\n",
       "      <td>Large City</td>\n",
       "      <td>NaN</td>\n",
       "      <td>NaN</td>\n",
       "      <td>Large City</td>\n",
       "      <td>NaN</td>\n",
       "      <td>NaN</td>\n",
       "      <td>NaN</td>\n",
       "      <td>NaN</td>\n",
       "      <td>...</td>\n",
       "      <td>NaN</td>\n",
       "      <td>NaN</td>\n",
       "      <td>NaN</td>\n",
       "      <td>NaN</td>\n",
       "      <td>NaN</td>\n",
       "      <td>NaN</td>\n",
       "      <td>NaN</td>\n",
       "      <td>NaN</td>\n",
       "      <td>NaN</td>\n",
       "      <td>NaN</td>\n",
       "    </tr>\n",
       "  </tbody>\n",
       "</table>\n",
       "<p>5 rows × 2318 columns</p>\n",
       "</div>"
      ],
      "text/plain": [
       "        Pkey             128           1509         2627      315        2108  \\\n",
       "0   DISTRICT        Adilabad           Agra   Ahmadnagar   Aizawl       Ajmer   \n",
       "1  DT_CEN_CD               1             15           26        3          21   \n",
       "2  ST_CEN_CD              28              9           27       15           8   \n",
       "3      ST_NM  Andhra Pradesh  Uttar Pradesh  Maharashtra  Mizoram   Rajasthan   \n",
       "4      Label             NaN     Large City          NaN      NaN  Large City   \n",
       "\n",
       "           527       1132           1209            4823      ...       \\\n",
       "0        Akola  Alappuzha        Aligarh       Alirajpur      ...        \n",
       "1            5         11             12              48      ...        \n",
       "2           27         32              9              23      ...        \n",
       "3  Maharashtra     Kerala  Uttar Pradesh  Madhya Pradesh      ...        \n",
       "4          NaN        NaN            NaN             NaN      ...        \n",
       "\n",
       "  Unnamed: 2308 Unnamed: 2309 Unnamed: 2310 Unnamed: 2311 Unnamed: 2312  \\\n",
       "0           NaN           NaN           NaN           NaN           NaN   \n",
       "1           NaN           NaN           NaN           NaN           NaN   \n",
       "2           NaN           NaN           NaN           NaN           NaN   \n",
       "3           NaN           NaN           NaN           NaN           NaN   \n",
       "4           NaN           NaN           NaN           NaN           NaN   \n",
       "\n",
       "  Unnamed: 2313 Unnamed: 2314 Unnamed: 2315 Unnamed: 2316 Unnamed: 2317  \n",
       "0           NaN           NaN           NaN           NaN           NaN  \n",
       "1           NaN           NaN           NaN           NaN           NaN  \n",
       "2           NaN           NaN           NaN           NaN           NaN  \n",
       "3           NaN           NaN           NaN           NaN           NaN  \n",
       "4           NaN           NaN           NaN           NaN           NaN  \n",
       "\n",
       "[5 rows x 2318 columns]"
      ]
     },
     "execution_count": 5,
     "metadata": {},
     "output_type": "execute_result"
    }
   ],
   "source": [
    "anom_sd1.head()"
   ]
  },
  {
   "cell_type": "code",
   "execution_count": 6,
   "metadata": {
    "collapsed": true
   },
   "outputs": [],
   "source": [
    "cols = anom_sd1.columns.tolist()"
   ]
  },
  {
   "cell_type": "code",
   "execution_count": 7,
   "metadata": {
    "collapsed": true
   },
   "outputs": [],
   "source": [
    "raw = anom_sd1[cols[:cols.index( u'MA(TS-MA)')]]"
   ]
  },
  {
   "cell_type": "code",
   "execution_count": 8,
   "metadata": {
    "collapsed": true
   },
   "outputs": [],
   "source": [
    "raw.columns = raw[0:1].values.tolist()"
   ]
  },
  {
   "cell_type": "code",
   "execution_count": 9,
   "metadata": {
    "collapsed": true
   },
   "outputs": [],
   "source": [
    "raw = raw[1:]"
   ]
  },
  {
   "cell_type": "code",
   "execution_count": 10,
   "metadata": {
    "collapsed": true
   },
   "outputs": [],
   "source": [
    "raw_cols = raw.columns.tolist()"
   ]
  },
  {
   "cell_type": "code",
   "execution_count": 11,
   "metadata": {
    "collapsed": true
   },
   "outputs": [],
   "source": [
    "std_all_years = list()"
   ]
  },
  {
   "cell_type": "code",
   "execution_count": 12,
   "metadata": {
    "collapsed": true
   },
   "outputs": [],
   "source": [
    "states_list = raw[2:3].values.tolist()[0]"
   ]
  },
  {
   "cell_type": "code",
   "execution_count": 13,
   "metadata": {
    "collapsed": true
   },
   "outputs": [],
   "source": [
    "states_not_processed = list()"
   ]
  },
  {
   "cell_type": "code",
   "execution_count": 14,
   "metadata": {
    "collapsed": true
   },
   "outputs": [],
   "source": [
    "time_line = raw['DISTRICT'][6:-1].values.tolist()"
   ]
  },
  {
   "cell_type": "code",
   "execution_count": 15,
   "metadata": {
    "collapsed": true
   },
   "outputs": [],
   "source": [
    "time_line_years = [time_val.year for time_val in time_line]"
   ]
  },
  {
   "cell_type": "code",
   "execution_count": 16,
   "metadata": {
    "collapsed": true
   },
   "outputs": [],
   "source": [
    "time_line_months = [time_val.month for time_val in time_line]"
   ]
  },
  {
   "cell_type": "code",
   "execution_count": 17,
   "metadata": {
    "collapsed": true
   },
   "outputs": [],
   "source": [
    "month_name = ['0','jan','feb','mar','apr','may','jun','jul','aug','sep','oct','nov','dec']"
   ]
  },
  {
   "cell_type": "code",
   "execution_count": 18,
   "metadata": {
    "collapsed": true
   },
   "outputs": [],
   "source": [
    "for i in range(len(df_elections_dates)):\n",
    "    state = df_elections_dates[i:i+1].values[0][0]\n",
    "    month = df_elections_dates[i:i+1].values[0][1]\n",
    "    year  = df_elections_dates[i:i+1].values[0][2]\n",
    "\n",
    "    if not(month in time_line_months and year in time_line_years and state in states_list):\n",
    "        states_not_processed.append([state,month,year])\n",
    "        continue\n",
    "\n",
    "    ## for state\n",
    "    f_name = str(state)+'_' + str(month) +'_'+str(year)\n",
    "\n",
    "    title = 'elections: '+ f_name\n",
    "\n",
    "    file_name = f_name +'.png'\n",
    "\n",
    "    dist_list = [raw_cols[i] for i,state_ in enumerate(raw[2:3].values.tolist()[0]) if state_==state]\n",
    "\n",
    "    ## this is night light values according to state\n",
    "    ntl_values = raw[dist_list][6:-1].sum(axis=1).values.tolist()\n",
    "\n",
    "    np.shape(ntl_values)\n",
    "\n",
    "    np.shape(time_line)\n",
    "\n",
    "    A = range(len(time_line))\n",
    "    B = ntl_values\n",
    "\n",
    "    plt.plot(A,B)\n",
    "    plt.plot(A,B,'ko')\n",
    "    plt.title(title)\n",
    "    plt.ylabel('raw_values')\n",
    "    plt.grid()\n",
    "\n",
    "    month_dates = list()\n",
    "    month_vals = list()\n",
    "    for i,time_value in enumerate(time_line):\n",
    "        if time_value.month == month:\n",
    "            ## putting the values in list\n",
    "            month_vals.append(B[i])\n",
    "\n",
    "            ## highlighting all that months\n",
    "            data_label = month_name[time_value.month]+str(time_value.year)[2:]\n",
    "            month_dates.append(data_label)\n",
    "            plt.plot(A[i],B[i],'ko',markerfacecolor='None',markeredgecolor='black',markersize=15)\n",
    "            plt.annotate(data_label,xy=(A[i]+1,B[i]))\n",
    "\n",
    "            ## highlighting that year\n",
    "            if time_value.year == year:\n",
    "                year_val = B[i]\n",
    "                plt.plot(A[i],B[i],'ks',markerfacecolor='None',markeredgecolor='black',markersize=15)\n",
    "\n",
    "    month_std = np.std(month_vals,ddof=1)\n",
    "    month_mean = np.mean(month_vals)\n",
    "\n",
    "    std_year = (year_val - month_mean)/month_std\n",
    "\n",
    "    plt.annotate('std: '+str(std_year) ,xy=(50,min(B)))\n",
    "\n",
    "    std_all_years.append([state,std_year])\n",
    "\n",
    "    plt.savefig('elections/'+file_name)\n",
    "\n",
    "    plt.close()"
   ]
  },
  {
   "cell_type": "code",
   "execution_count": 24,
   "metadata": {
    "collapsed": true
   },
   "outputs": [],
   "source": [
    "df_stdCounts_allStates = pd.DataFrame(std_all_years)"
   ]
  },
  {
   "cell_type": "code",
   "execution_count": 26,
   "metadata": {
    "collapsed": true
   },
   "outputs": [],
   "source": [
    "df_stdCounts_allStates.columns = ['state','stdCount']"
   ]
  },
  {
   "cell_type": "code",
   "execution_count": null,
   "metadata": {
    "collapsed": true
   },
   "outputs": [],
   "source": []
  },
  {
   "cell_type": "code",
   "execution_count": 28,
   "metadata": {
    "collapsed": true
   },
   "outputs": [],
   "source": [
    "df_states_notProcessed = pd.DataFrame(states_not_processed)"
   ]
  },
  {
   "cell_type": "code",
   "execution_count": 30,
   "metadata": {
    "collapsed": true
   },
   "outputs": [],
   "source": [
    "df_states_notProcessed.columns = ['States','Month','Year']"
   ]
  },
  {
   "cell_type": "code",
   "execution_count": 32,
   "metadata": {
    "collapsed": true
   },
   "outputs": [],
   "source": [
    "df_sotdCounts_allStates.to_csv('elections/stdCounts_states')"
   ]
  },
  {
   "cell_type": "code",
   "execution_count": 33,
   "metadata": {
    "collapsed": true
   },
   "outputs": [],
   "source": [
    "df_states_notProcessed.to_csv('elections/notProcessedStates')"
   ]
  },
  {
   "cell_type": "code",
   "execution_count": null,
   "metadata": {
    "collapsed": true
   },
   "outputs": [],
   "source": []
  },
  {
   "cell_type": "code",
   "execution_count": null,
   "metadata": {
    "collapsed": true
   },
   "outputs": [],
   "source": []
  },
  {
   "cell_type": "code",
   "execution_count": null,
   "metadata": {
    "collapsed": true
   },
   "outputs": [],
   "source": []
  }
 ],
 "metadata": {
  "kernelspec": {
   "display_name": "Python 2",
   "language": "python",
   "name": "python2"
  },
  "language_info": {
   "codemirror_mode": {
    "name": "ipython",
    "version": 2
   },
   "file_extension": ".py",
   "mimetype": "text/x-python",
   "name": "python",
   "nbconvert_exporter": "python",
   "pygments_lexer": "ipython2",
   "version": "2.7.14"
  }
 },
 "nbformat": 4,
 "nbformat_minor": 2
}
