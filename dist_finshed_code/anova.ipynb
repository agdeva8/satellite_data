{
 "cells": [
  {
   "cell_type": "code",
   "execution_count": 4,
   "metadata": {},
   "outputs": [
    {
     "name": "stderr",
     "output_type": "stream",
     "text": [
      "/home/deva/anaconda2/lib/python2.7/site-packages/statsmodels/compat/pandas.py:56: FutureWarning: The pandas.core.datetools module is deprecated and will be removed in a future version. Please use the pandas.tseries module instead.\n",
      "  from pandas.core import datetools\n"
     ]
    }
   ],
   "source": [
    "import statsmodels.api as sm"
   ]
  },
  {
   "cell_type": "code",
   "execution_count": 5,
   "metadata": {
    "collapsed": true
   },
   "outputs": [],
   "source": [
    "from statsmodels.formula.api import ols"
   ]
  },
  {
   "cell_type": "code",
   "execution_count": 63,
   "metadata": {
    "collapsed": true
   },
   "outputs": [],
   "source": [
    "import scipy.stats as stats"
   ]
  },
  {
   "cell_type": "code",
   "execution_count": 6,
   "metadata": {
    "collapsed": true
   },
   "outputs": [],
   "source": [
    "import numpy as np"
   ]
  },
  {
   "cell_type": "code",
   "execution_count": 7,
   "metadata": {
    "collapsed": true
   },
   "outputs": [],
   "source": [
    "import pandas as pd"
   ]
  },
  {
   "cell_type": "code",
   "execution_count": 8,
   "metadata": {},
   "outputs": [
    {
     "name": "stderr",
     "output_type": "stream",
     "text": [
      "/home/deva/anaconda2/lib/python2.7/site-packages/ggplot/utils.py:81: FutureWarning: pandas.tslib is deprecated and will be removed in a future version.\n",
      "You can access Timestamp as pandas.Timestamp\n",
      "  pd.tslib.Timestamp,\n",
      "/home/deva/anaconda2/lib/python2.7/site-packages/ggplot/stats/smoothers.py:4: FutureWarning: The pandas.lib module is deprecated and will be removed in a future version. These are private functions and can be accessed from pandas._libs.lib instead\n",
      "  from pandas.lib import Timestamp\n"
     ]
    }
   ],
   "source": [
    "from ggplot import *"
   ]
  },
  {
   "cell_type": "code",
   "execution_count": 12,
   "metadata": {},
   "outputs": [],
   "source": [
    "df_satData = pd.read_csv('distSatellite_withLabels.csv')"
   ]
  },
  {
   "cell_type": "code",
   "execution_count": 13,
   "metadata": {
    "collapsed": true
   },
   "outputs": [],
   "source": [
    "### List of labels\n",
    "lis_labelsAll = ['MSL_1','MSL_2','MSL_3','MSW_1','MSW_2','MSW_3','CHH_1','CHH_2','CHH_3','FC_1','FC_2','FC_3','BF_1','BF_2','BF_3','EMP_1','EMP_2','EMP_3']\n",
    "\n",
    "### List of useful Labels\n",
    "lis_labels= ['EMP_1','EMP_2','EMP_3']"
   ]
  },
  {
   "cell_type": "code",
   "execution_count": 16,
   "metadata": {},
   "outputs": [],
   "source": [
    "cols = df_satData.columns.tolist()"
   ]
  },
  {
   "cell_type": "code",
   "execution_count": 20,
   "metadata": {},
   "outputs": [],
   "source": [
    "area =   df_satData[cols[2:cols.index('mean')]].sum(axis=1).values"
   ]
  },
  {
   "cell_type": "code",
   "execution_count": 22,
   "metadata": {},
   "outputs": [],
   "source": [
    "df_satData['Area'] = area"
   ]
  },
  {
   "cell_type": "code",
   "execution_count": 23,
   "metadata": {},
   "outputs": [],
   "source": [
    "df_satData['Natural']= 0\n",
    "for i in ['Water','Evergreen Needleleaf forest','Evergreen Broadleaf forest','Deciduous Needleleaf forest','Deciduous Broadleaf forest','Mixed forest','Closed shrublands','Open shrublands','Woody savannas','Savannas','Grasslands','Permanent wetlands','Snow and ice']:\n",
    "    df_satData['Natural']=df_satData['Natural']+df_satData[i]\n",
    "    \n",
    "df_satData['Urban and built-up']=df_satData['Urban and built-up']+1\n",
    "df_satData['CropRatio']=(df_satData['Croplands']+df_satData['Cropland/Natural vegetation mosaic'])/df_satData['Area']\n",
    "df_satData['AvgUrbanNTL']=df_satData['sum']/df_satData['Urban and built-up']\n",
    "df_satData['UrbanRatio']= df_satData['Urban and built-up']/df_satData['Area']\n",
    "    \n",
    "df_satData['CropRemainRatio']=(df_satData['Croplands']+df_satData['Cropland/Natural vegetation mosaic'])/(df_satData['Area']-df_satData['Natural'])\n",
    "df_satData['UrbanRemainRatio']=df_satData['Urban and built-up']/(df_satData['Area']-df_satData['Natural'])\n",
    "#df_satData['UrbanRatio']=df_satData['UrbanRatio'].fillna(0)\n",
    "\n",
    "forest =['Evergreen Broadleaf forest','Deciduous Broadleaf forest','Mixed forest']\n",
    "df_satData['forest'] = df_satData[forest].sum(axis=1)\n",
    "\n",
    "grass_shrubs =['Closed shrublands','Open shrublands','Woody savannas','Savannas','Grasslands']\n",
    "df_satData['grass_shrubs'] = df_satData[grass_shrubs].sum(axis=1)\n"
   ]
  },
  {
   "cell_type": "code",
   "execution_count": 156,
   "metadata": {
    "collapsed": true
   },
   "outputs": [
    {
     "ename": "KeyError",
     "evalue": "'Cropland/Natural vegetation mosaic'",
     "output_type": "error",
     "traceback": [
      "\u001b[0;31m---------------------------------------------------------------------------\u001b[0m",
      "\u001b[0;31mKeyError\u001b[0m                                  Traceback (most recent call last)",
      "\u001b[0;32m<ipython-input-156-894ea2f81a52>\u001b[0m in \u001b[0;36m<module>\u001b[0;34m()\u001b[0m\n\u001b[0;32m----> 1\u001b[0;31m \u001b[0mdf_satData\u001b[0m\u001b[0;34m[\u001b[0m\u001b[0;34m'Cropland_NaturalVegetation'\u001b[0m\u001b[0;34m]\u001b[0m \u001b[0;34m=\u001b[0m \u001b[0mdf_satData\u001b[0m\u001b[0;34m[\u001b[0m\u001b[0;34m'Cropland/Natural vegetation mosaic'\u001b[0m\u001b[0;34m]\u001b[0m\u001b[0;34m\u001b[0m\u001b[0m\n\u001b[0m",
      "\u001b[0;32m/home/deva/anaconda2/lib/python2.7/site-packages/pandas/core/frame.pyc\u001b[0m in \u001b[0;36m__getitem__\u001b[0;34m(self, key)\u001b[0m\n\u001b[1;32m   1962\u001b[0m             \u001b[0;32mreturn\u001b[0m \u001b[0mself\u001b[0m\u001b[0;34m.\u001b[0m\u001b[0m_getitem_multilevel\u001b[0m\u001b[0;34m(\u001b[0m\u001b[0mkey\u001b[0m\u001b[0;34m)\u001b[0m\u001b[0;34m\u001b[0m\u001b[0m\n\u001b[1;32m   1963\u001b[0m         \u001b[0;32melse\u001b[0m\u001b[0;34m:\u001b[0m\u001b[0;34m\u001b[0m\u001b[0m\n\u001b[0;32m-> 1964\u001b[0;31m             \u001b[0;32mreturn\u001b[0m \u001b[0mself\u001b[0m\u001b[0;34m.\u001b[0m\u001b[0m_getitem_column\u001b[0m\u001b[0;34m(\u001b[0m\u001b[0mkey\u001b[0m\u001b[0;34m)\u001b[0m\u001b[0;34m\u001b[0m\u001b[0m\n\u001b[0m\u001b[1;32m   1965\u001b[0m \u001b[0;34m\u001b[0m\u001b[0m\n\u001b[1;32m   1966\u001b[0m     \u001b[0;32mdef\u001b[0m \u001b[0m_getitem_column\u001b[0m\u001b[0;34m(\u001b[0m\u001b[0mself\u001b[0m\u001b[0;34m,\u001b[0m \u001b[0mkey\u001b[0m\u001b[0;34m)\u001b[0m\u001b[0;34m:\u001b[0m\u001b[0;34m\u001b[0m\u001b[0m\n",
      "\u001b[0;32m/home/deva/anaconda2/lib/python2.7/site-packages/pandas/core/frame.pyc\u001b[0m in \u001b[0;36m_getitem_column\u001b[0;34m(self, key)\u001b[0m\n\u001b[1;32m   1969\u001b[0m         \u001b[0;31m# get column\u001b[0m\u001b[0;34m\u001b[0m\u001b[0;34m\u001b[0m\u001b[0m\n\u001b[1;32m   1970\u001b[0m         \u001b[0;32mif\u001b[0m \u001b[0mself\u001b[0m\u001b[0;34m.\u001b[0m\u001b[0mcolumns\u001b[0m\u001b[0;34m.\u001b[0m\u001b[0mis_unique\u001b[0m\u001b[0;34m:\u001b[0m\u001b[0;34m\u001b[0m\u001b[0m\n\u001b[0;32m-> 1971\u001b[0;31m             \u001b[0;32mreturn\u001b[0m \u001b[0mself\u001b[0m\u001b[0;34m.\u001b[0m\u001b[0m_get_item_cache\u001b[0m\u001b[0;34m(\u001b[0m\u001b[0mkey\u001b[0m\u001b[0;34m)\u001b[0m\u001b[0;34m\u001b[0m\u001b[0m\n\u001b[0m\u001b[1;32m   1972\u001b[0m \u001b[0;34m\u001b[0m\u001b[0m\n\u001b[1;32m   1973\u001b[0m         \u001b[0;31m# duplicate columns & possible reduce dimensionality\u001b[0m\u001b[0;34m\u001b[0m\u001b[0;34m\u001b[0m\u001b[0m\n",
      "\u001b[0;32m/home/deva/anaconda2/lib/python2.7/site-packages/pandas/core/generic.pyc\u001b[0m in \u001b[0;36m_get_item_cache\u001b[0;34m(self, item)\u001b[0m\n\u001b[1;32m   1643\u001b[0m         \u001b[0mres\u001b[0m \u001b[0;34m=\u001b[0m \u001b[0mcache\u001b[0m\u001b[0;34m.\u001b[0m\u001b[0mget\u001b[0m\u001b[0;34m(\u001b[0m\u001b[0mitem\u001b[0m\u001b[0;34m)\u001b[0m\u001b[0;34m\u001b[0m\u001b[0m\n\u001b[1;32m   1644\u001b[0m         \u001b[0;32mif\u001b[0m \u001b[0mres\u001b[0m \u001b[0;32mis\u001b[0m \u001b[0mNone\u001b[0m\u001b[0;34m:\u001b[0m\u001b[0;34m\u001b[0m\u001b[0m\n\u001b[0;32m-> 1645\u001b[0;31m             \u001b[0mvalues\u001b[0m \u001b[0;34m=\u001b[0m \u001b[0mself\u001b[0m\u001b[0;34m.\u001b[0m\u001b[0m_data\u001b[0m\u001b[0;34m.\u001b[0m\u001b[0mget\u001b[0m\u001b[0;34m(\u001b[0m\u001b[0mitem\u001b[0m\u001b[0;34m)\u001b[0m\u001b[0;34m\u001b[0m\u001b[0m\n\u001b[0m\u001b[1;32m   1646\u001b[0m             \u001b[0mres\u001b[0m \u001b[0;34m=\u001b[0m \u001b[0mself\u001b[0m\u001b[0;34m.\u001b[0m\u001b[0m_box_item_values\u001b[0m\u001b[0;34m(\u001b[0m\u001b[0mitem\u001b[0m\u001b[0;34m,\u001b[0m \u001b[0mvalues\u001b[0m\u001b[0;34m)\u001b[0m\u001b[0;34m\u001b[0m\u001b[0m\n\u001b[1;32m   1647\u001b[0m             \u001b[0mcache\u001b[0m\u001b[0;34m[\u001b[0m\u001b[0mitem\u001b[0m\u001b[0;34m]\u001b[0m \u001b[0;34m=\u001b[0m \u001b[0mres\u001b[0m\u001b[0;34m\u001b[0m\u001b[0m\n",
      "\u001b[0;32m/home/deva/anaconda2/lib/python2.7/site-packages/pandas/core/internals.pyc\u001b[0m in \u001b[0;36mget\u001b[0;34m(self, item, fastpath)\u001b[0m\n\u001b[1;32m   3588\u001b[0m \u001b[0;34m\u001b[0m\u001b[0m\n\u001b[1;32m   3589\u001b[0m             \u001b[0;32mif\u001b[0m \u001b[0;32mnot\u001b[0m \u001b[0misnull\u001b[0m\u001b[0;34m(\u001b[0m\u001b[0mitem\u001b[0m\u001b[0;34m)\u001b[0m\u001b[0;34m:\u001b[0m\u001b[0;34m\u001b[0m\u001b[0m\n\u001b[0;32m-> 3590\u001b[0;31m                 \u001b[0mloc\u001b[0m \u001b[0;34m=\u001b[0m \u001b[0mself\u001b[0m\u001b[0;34m.\u001b[0m\u001b[0mitems\u001b[0m\u001b[0;34m.\u001b[0m\u001b[0mget_loc\u001b[0m\u001b[0;34m(\u001b[0m\u001b[0mitem\u001b[0m\u001b[0;34m)\u001b[0m\u001b[0;34m\u001b[0m\u001b[0m\n\u001b[0m\u001b[1;32m   3591\u001b[0m             \u001b[0;32melse\u001b[0m\u001b[0;34m:\u001b[0m\u001b[0;34m\u001b[0m\u001b[0m\n\u001b[1;32m   3592\u001b[0m                 \u001b[0mindexer\u001b[0m \u001b[0;34m=\u001b[0m \u001b[0mnp\u001b[0m\u001b[0;34m.\u001b[0m\u001b[0marange\u001b[0m\u001b[0;34m(\u001b[0m\u001b[0mlen\u001b[0m\u001b[0;34m(\u001b[0m\u001b[0mself\u001b[0m\u001b[0;34m.\u001b[0m\u001b[0mitems\u001b[0m\u001b[0;34m)\u001b[0m\u001b[0;34m)\u001b[0m\u001b[0;34m[\u001b[0m\u001b[0misnull\u001b[0m\u001b[0;34m(\u001b[0m\u001b[0mself\u001b[0m\u001b[0;34m.\u001b[0m\u001b[0mitems\u001b[0m\u001b[0;34m)\u001b[0m\u001b[0;34m]\u001b[0m\u001b[0;34m\u001b[0m\u001b[0m\n",
      "\u001b[0;32m/home/deva/anaconda2/lib/python2.7/site-packages/pandas/core/indexes/base.pyc\u001b[0m in \u001b[0;36mget_loc\u001b[0;34m(self, key, method, tolerance)\u001b[0m\n\u001b[1;32m   2442\u001b[0m                 \u001b[0;32mreturn\u001b[0m \u001b[0mself\u001b[0m\u001b[0;34m.\u001b[0m\u001b[0m_engine\u001b[0m\u001b[0;34m.\u001b[0m\u001b[0mget_loc\u001b[0m\u001b[0;34m(\u001b[0m\u001b[0mkey\u001b[0m\u001b[0;34m)\u001b[0m\u001b[0;34m\u001b[0m\u001b[0m\n\u001b[1;32m   2443\u001b[0m             \u001b[0;32mexcept\u001b[0m \u001b[0mKeyError\u001b[0m\u001b[0;34m:\u001b[0m\u001b[0;34m\u001b[0m\u001b[0m\n\u001b[0;32m-> 2444\u001b[0;31m                 \u001b[0;32mreturn\u001b[0m \u001b[0mself\u001b[0m\u001b[0;34m.\u001b[0m\u001b[0m_engine\u001b[0m\u001b[0;34m.\u001b[0m\u001b[0mget_loc\u001b[0m\u001b[0;34m(\u001b[0m\u001b[0mself\u001b[0m\u001b[0;34m.\u001b[0m\u001b[0m_maybe_cast_indexer\u001b[0m\u001b[0;34m(\u001b[0m\u001b[0mkey\u001b[0m\u001b[0;34m)\u001b[0m\u001b[0;34m)\u001b[0m\u001b[0;34m\u001b[0m\u001b[0m\n\u001b[0m\u001b[1;32m   2445\u001b[0m \u001b[0;34m\u001b[0m\u001b[0m\n\u001b[1;32m   2446\u001b[0m         \u001b[0mindexer\u001b[0m \u001b[0;34m=\u001b[0m \u001b[0mself\u001b[0m\u001b[0;34m.\u001b[0m\u001b[0mget_indexer\u001b[0m\u001b[0;34m(\u001b[0m\u001b[0;34m[\u001b[0m\u001b[0mkey\u001b[0m\u001b[0;34m]\u001b[0m\u001b[0;34m,\u001b[0m \u001b[0mmethod\u001b[0m\u001b[0;34m=\u001b[0m\u001b[0mmethod\u001b[0m\u001b[0;34m,\u001b[0m \u001b[0mtolerance\u001b[0m\u001b[0;34m=\u001b[0m\u001b[0mtolerance\u001b[0m\u001b[0;34m)\u001b[0m\u001b[0;34m\u001b[0m\u001b[0m\n",
      "\u001b[0;32mpandas/_libs/index.pyx\u001b[0m in \u001b[0;36mpandas._libs.index.IndexEngine.get_loc\u001b[0;34m()\u001b[0m\n",
      "\u001b[0;32mpandas/_libs/index.pyx\u001b[0m in \u001b[0;36mpandas._libs.index.IndexEngine.get_loc\u001b[0;34m()\u001b[0m\n",
      "\u001b[0;32mpandas/_libs/hashtable_class_helper.pxi\u001b[0m in \u001b[0;36mpandas._libs.hashtable.PyObjectHashTable.get_item\u001b[0;34m()\u001b[0m\n",
      "\u001b[0;32mpandas/_libs/hashtable_class_helper.pxi\u001b[0m in \u001b[0;36mpandas._libs.hashtable.PyObjectHashTable.get_item\u001b[0;34m()\u001b[0m\n",
      "\u001b[0;31mKeyError\u001b[0m: 'Cropland/Natural vegetation mosaic'"
     ]
    }
   ],
   "source": [
    "df_satData['Cropland_NaturalVegetation'] = df_satData['Cropland/Natural vegetation mosaic']"
   ]
  },
  {
   "cell_type": "code",
   "execution_count": 154,
   "metadata": {},
   "outputs": [],
   "source": [
    "var = ['mean',\n",
    " 'sum',\n",
    " 'Water',\n",
    " 'CropRatio',\n",
    " 'AvgUrbanNTL',\n",
    " 'UrbanRatio',\n",
    " 'CropRemainRatio',\n",
    " 'UrbanRemainRatio',\n",
    " 'forest',\n",
    " 'grass_shrubs',\n",
    " 'Permanent wetlands',\n",
    " 'Croplands',\n",
    " 'Urban and built-up',\n",
    " 'Cropland_NaturalVegetation',\n",
    " 'Barren or sparsely vegetated',\n",
    " 'Natural']"
   ]
  },
  {
   "cell_type": "code",
   "execution_count": 151,
   "metadata": {
    "collapsed": true
   },
   "outputs": [],
   "source": [
    "del df_satData['Cropland/Natural vegetation mosaic']"
   ]
  },
  {
   "cell_type": "code",
   "execution_count": 157,
   "metadata": {
    "collapsed": true
   },
   "outputs": [
    {
     "data": {
      "text/plain": [
       "['DISTRICT',\n",
       " '101',\n",
       " 'DN_00',\n",
       " 'DN_01',\n",
       " 'DN_02',\n",
       " 'DN_03',\n",
       " 'DN_04',\n",
       " 'DN_05',\n",
       " 'DN_06',\n",
       " 'DN_07',\n",
       " 'DN_08',\n",
       " 'DN_09',\n",
       " 'DN_10',\n",
       " 'DN_11',\n",
       " 'DN_12',\n",
       " 'DN_13',\n",
       " 'DN_14',\n",
       " 'DN_15',\n",
       " 'DN_16',\n",
       " 'DN_17',\n",
       " 'DN_18',\n",
       " 'DN_19',\n",
       " 'DN_20',\n",
       " 'DN_21',\n",
       " 'DN_22',\n",
       " 'DN_23',\n",
       " 'DN_24',\n",
       " 'DN_25',\n",
       " 'DN_26',\n",
       " 'DN_27',\n",
       " 'DN_28',\n",
       " 'DN_29',\n",
       " 'DN_30',\n",
       " 'DN_31',\n",
       " 'DN_32',\n",
       " 'DN_33',\n",
       " 'DN_34',\n",
       " 'DN_35',\n",
       " 'DN_36',\n",
       " 'DN_37',\n",
       " 'DN_38',\n",
       " 'DN_39',\n",
       " 'DN_40',\n",
       " 'DN_41',\n",
       " 'DN_42',\n",
       " 'DN_43',\n",
       " 'DN_44',\n",
       " 'DN_45',\n",
       " 'DN_46',\n",
       " 'DN_47',\n",
       " 'DN_48',\n",
       " 'DN_49',\n",
       " 'DN_50',\n",
       " 'DN_51',\n",
       " 'DN_52',\n",
       " 'DN_53',\n",
       " 'DN_54',\n",
       " 'DN_55',\n",
       " 'DN_56',\n",
       " 'DN_57',\n",
       " 'DN_58',\n",
       " 'DN_59',\n",
       " 'DN_60',\n",
       " 'DN_61',\n",
       " 'DN_62',\n",
       " 'DN_63',\n",
       " 'mean',\n",
       " 'sum',\n",
       " 'Water',\n",
       " 'Evergreen Needleleaf forest',\n",
       " 'Evergreen Broadleaf forest',\n",
       " 'Deciduous Needleleaf forest',\n",
       " 'Deciduous Broadleaf forest',\n",
       " 'Mixed forest',\n",
       " 'Closed shrublands',\n",
       " 'Open shrublands',\n",
       " 'Woody savannas',\n",
       " 'Savannas',\n",
       " 'Grasslands',\n",
       " 'Permanent wetlands',\n",
       " 'Croplands',\n",
       " 'Urban and built-up',\n",
       " 'Snow and ice',\n",
       " 'Barren or sparsely vegetated',\n",
       " 'MSL_1',\n",
       " 'MSL_2',\n",
       " 'MSL_3',\n",
       " 'MSW_1',\n",
       " 'MSW_2',\n",
       " 'MSW_3',\n",
       " 'CHH_1',\n",
       " 'CHH_2',\n",
       " 'CHH_3',\n",
       " 'FC_1',\n",
       " 'FC_2',\n",
       " 'FC_3',\n",
       " 'BF_1',\n",
       " 'BF_2',\n",
       " 'BF_3',\n",
       " 'EMP_1',\n",
       " 'EMP_2',\n",
       " 'EMP_3',\n",
       " 'Area',\n",
       " 'Natural',\n",
       " 'CropRatio',\n",
       " 'AvgUrbanNTL',\n",
       " 'UrbanRatio',\n",
       " 'CropRemainRatio',\n",
       " 'UrbanRemainRatio',\n",
       " 'forest',\n",
       " 'grass_shrubs',\n",
       " 'Cropland_NaturalVegetation']"
      ]
     },
     "execution_count": 157,
     "metadata": {},
     "output_type": "execute_result"
    }
   ],
   "source": [
    "list(df_satData)"
   ]
  },
  {
   "cell_type": "code",
   "execution_count": null,
   "metadata": {
    "collapsed": true
   },
   "outputs": [],
   "source": []
  },
  {
   "cell_type": "code",
   "execution_count": 29,
   "metadata": {
    "collapsed": true
   },
   "outputs": [],
   "source": [
    "df2 = pd.read_csv('Dist.csv')"
   ]
  },
  {
   "cell_type": "code",
   "execution_count": 32,
   "metadata": {},
   "outputs": [],
   "source": [
    "cols2 = df2.columns.tolist()"
   ]
  },
  {
   "cell_type": "code",
   "execution_count": 36,
   "metadata": {},
   "outputs": [],
   "source": [
    "labels = cols2[-6:]"
   ]
  },
  {
   "cell_type": "code",
   "execution_count": 158,
   "metadata": {
    "scrolled": true
   },
   "outputs": [],
   "source": [
    "df_withLabels = df_satData.merge(df2[['District'] + labels],left_on='101',right_on='District')"
   ]
  },
  {
   "cell_type": "code",
   "execution_count": 47,
   "metadata": {},
   "outputs": [],
   "source": [
    "label = labels[0]"
   ]
  },
  {
   "cell_type": "code",
   "execution_count": 160,
   "metadata": {},
   "outputs": [],
   "source": [
    "for label in labels:\n",
    "    for feature in var:\n",
    "        plot = ggplot(df_withLabels,aes(x=label,y=feature)) + geom_boxplot()+ylim(df_satData[feature].quantile(.025),df_satData[feature].quantile(.975))\n",
    "        #plot.show()\n",
    "        plot.save('box_plots/'+feature+'_'+label[-3:]+'.png')"
   ]
  },
  {
   "cell_type": "code",
   "execution_count": 57,
   "metadata": {},
   "outputs": [
    {
     "data": {
      "text/plain": [
       "['mean',\n",
       " 'sum',\n",
       " 'Water',\n",
       " 'CropRatio',\n",
       " 'AvgUrbanNTL',\n",
       " 'UrbanRatio',\n",
       " 'CropRemainRatio',\n",
       " 'UrbanRemainRatio',\n",
       " 'forest',\n",
       " 'grass_shrubs',\n",
       " 'Permanent wetlands',\n",
       " 'Croplands',\n",
       " 'Urban and built-up',\n",
       " 'Barren or sparsely vegetated',\n",
       " 'Natural']"
      ]
     },
     "execution_count": 57,
     "metadata": {},
     "output_type": "execute_result"
    }
   ],
   "source": []
  },
  {
   "cell_type": "code",
   "execution_count": 51,
   "metadata": {
    "collapsed": true
   },
   "outputs": [],
   "source": [
    "for name_group in df.groupby('Names'):\n",
    "    samples = [condition[1] for condition in name_group[1].groupby('condition')['value']]\n",
    "    f_val, p_val = stats.f_oneway(*samples)\n",
    "    print('Name: {}, F value: {:.3f}, p value: {:.3f}'.format(name_group[0], f_val, p_val))"
   ]
  },
  {
   "cell_type": "code",
   "execution_count": 148,
   "metadata": {},
   "outputs": [],
   "source": [
    "df_results = pd.DataFrame(columns=['labels','features','f_val','p_val'])\n",
    "i = 0\n",
    "for label in labels:\n",
    "    for feature in var:\n",
    "        samples = [label_type[1][feature] for label_type in df_withLabels.groupby(label)]\n",
    "        f_val,p_val = stats.f_oneway(*samples)\n",
    "        df_results.loc[i] = [label[-3:],feature,f_val,p_val]\n",
    "        i += 1"
   ]
  },
  {
   "cell_type": "code",
   "execution_count": 149,
   "metadata": {},
   "outputs": [
    {
     "data": {
      "text/html": [
       "<div>\n",
       "<style>\n",
       "    .dataframe thead tr:only-child th {\n",
       "        text-align: right;\n",
       "    }\n",
       "\n",
       "    .dataframe thead th {\n",
       "        text-align: left;\n",
       "    }\n",
       "\n",
       "    .dataframe tbody tr th {\n",
       "        vertical-align: top;\n",
       "    }\n",
       "</style>\n",
       "<table border=\"1\" class=\"dataframe\">\n",
       "  <thead>\n",
       "    <tr style=\"text-align: right;\">\n",
       "      <th></th>\n",
       "      <th>labels</th>\n",
       "      <th>features</th>\n",
       "      <th>f_val</th>\n",
       "      <th>p_val</th>\n",
       "    </tr>\n",
       "  </thead>\n",
       "  <tbody>\n",
       "    <tr>\n",
       "      <th>0</th>\n",
       "      <td>MSL</td>\n",
       "      <td>mean</td>\n",
       "      <td>52.603639</td>\n",
       "      <td>7.180093e-22</td>\n",
       "    </tr>\n",
       "    <tr>\n",
       "      <th>1</th>\n",
       "      <td>MSL</td>\n",
       "      <td>sum</td>\n",
       "      <td>70.535697</td>\n",
       "      <td>2.131645e-28</td>\n",
       "    </tr>\n",
       "    <tr>\n",
       "      <th>2</th>\n",
       "      <td>MSL</td>\n",
       "      <td>Water</td>\n",
       "      <td>0.963114</td>\n",
       "      <td>3.822574e-01</td>\n",
       "    </tr>\n",
       "    <tr>\n",
       "      <th>3</th>\n",
       "      <td>MSL</td>\n",
       "      <td>CropRatio</td>\n",
       "      <td>21.135332</td>\n",
       "      <td>1.296458e-09</td>\n",
       "    </tr>\n",
       "    <tr>\n",
       "      <th>4</th>\n",
       "      <td>MSL</td>\n",
       "      <td>AvgUrbanNTL</td>\n",
       "      <td>10.372960</td>\n",
       "      <td>3.688795e-05</td>\n",
       "    </tr>\n",
       "    <tr>\n",
       "      <th>5</th>\n",
       "      <td>MSL</td>\n",
       "      <td>UrbanRatio</td>\n",
       "      <td>8.615008</td>\n",
       "      <td>2.033554e-04</td>\n",
       "    </tr>\n",
       "    <tr>\n",
       "      <th>6</th>\n",
       "      <td>MSL</td>\n",
       "      <td>CropRemainRatio</td>\n",
       "      <td>7.321086</td>\n",
       "      <td>7.185957e-04</td>\n",
       "    </tr>\n",
       "    <tr>\n",
       "      <th>7</th>\n",
       "      <td>MSL</td>\n",
       "      <td>UrbanRemainRatio</td>\n",
       "      <td>13.048292</td>\n",
       "      <td>2.793839e-06</td>\n",
       "    </tr>\n",
       "    <tr>\n",
       "      <th>8</th>\n",
       "      <td>MSL</td>\n",
       "      <td>forest</td>\n",
       "      <td>10.256353</td>\n",
       "      <td>4.129880e-05</td>\n",
       "    </tr>\n",
       "    <tr>\n",
       "      <th>9</th>\n",
       "      <td>MSL</td>\n",
       "      <td>grass_shrubs</td>\n",
       "      <td>5.051653</td>\n",
       "      <td>6.657509e-03</td>\n",
       "    </tr>\n",
       "    <tr>\n",
       "      <th>10</th>\n",
       "      <td>MSL</td>\n",
       "      <td>Permanent wetlands</td>\n",
       "      <td>2.202432</td>\n",
       "      <td>1.113750e-01</td>\n",
       "    </tr>\n",
       "    <tr>\n",
       "      <th>11</th>\n",
       "      <td>MSL</td>\n",
       "      <td>Croplands</td>\n",
       "      <td>0.724701</td>\n",
       "      <td>4.848684e-01</td>\n",
       "    </tr>\n",
       "    <tr>\n",
       "      <th>12</th>\n",
       "      <td>MSL</td>\n",
       "      <td>Urban and built-up</td>\n",
       "      <td>24.552827</td>\n",
       "      <td>5.344119e-11</td>\n",
       "    </tr>\n",
       "    <tr>\n",
       "      <th>13</th>\n",
       "      <td>MSL</td>\n",
       "      <td>Cropland/Natural vegetation mosaic</td>\n",
       "      <td>11.811342</td>\n",
       "      <td>9.188086e-06</td>\n",
       "    </tr>\n",
       "    <tr>\n",
       "      <th>14</th>\n",
       "      <td>MSL</td>\n",
       "      <td>Barren or sparsely vegetated</td>\n",
       "      <td>0.502267</td>\n",
       "      <td>6.053968e-01</td>\n",
       "    </tr>\n",
       "    <tr>\n",
       "      <th>15</th>\n",
       "      <td>MSL</td>\n",
       "      <td>Natural</td>\n",
       "      <td>8.525030</td>\n",
       "      <td>2.219775e-04</td>\n",
       "    </tr>\n",
       "    <tr>\n",
       "      <th>16</th>\n",
       "      <td>MSW</td>\n",
       "      <td>mean</td>\n",
       "      <td>43.889250</td>\n",
       "      <td>1.390019e-18</td>\n",
       "    </tr>\n",
       "    <tr>\n",
       "      <th>17</th>\n",
       "      <td>MSW</td>\n",
       "      <td>sum</td>\n",
       "      <td>69.125669</td>\n",
       "      <td>6.775869e-28</td>\n",
       "    </tr>\n",
       "    <tr>\n",
       "      <th>18</th>\n",
       "      <td>MSW</td>\n",
       "      <td>Water</td>\n",
       "      <td>0.673760</td>\n",
       "      <td>5.101511e-01</td>\n",
       "    </tr>\n",
       "    <tr>\n",
       "      <th>19</th>\n",
       "      <td>MSW</td>\n",
       "      <td>CropRatio</td>\n",
       "      <td>78.206465</td>\n",
       "      <td>4.245124e-31</td>\n",
       "    </tr>\n",
       "    <tr>\n",
       "      <th>20</th>\n",
       "      <td>MSW</td>\n",
       "      <td>AvgUrbanNTL</td>\n",
       "      <td>4.926877</td>\n",
       "      <td>7.527756e-03</td>\n",
       "    </tr>\n",
       "    <tr>\n",
       "      <th>21</th>\n",
       "      <td>MSW</td>\n",
       "      <td>UrbanRatio</td>\n",
       "      <td>11.908898</td>\n",
       "      <td>8.363309e-06</td>\n",
       "    </tr>\n",
       "    <tr>\n",
       "      <th>22</th>\n",
       "      <td>MSW</td>\n",
       "      <td>CropRemainRatio</td>\n",
       "      <td>12.717121</td>\n",
       "      <td>3.840923e-06</td>\n",
       "    </tr>\n",
       "    <tr>\n",
       "      <th>23</th>\n",
       "      <td>MSW</td>\n",
       "      <td>UrbanRemainRatio</td>\n",
       "      <td>13.143798</td>\n",
       "      <td>2.548952e-06</td>\n",
       "    </tr>\n",
       "    <tr>\n",
       "      <th>24</th>\n",
       "      <td>MSW</td>\n",
       "      <td>forest</td>\n",
       "      <td>32.320146</td>\n",
       "      <td>4.274985e-14</td>\n",
       "    </tr>\n",
       "    <tr>\n",
       "      <th>25</th>\n",
       "      <td>MSW</td>\n",
       "      <td>grass_shrubs</td>\n",
       "      <td>5.164315</td>\n",
       "      <td>5.958757e-03</td>\n",
       "    </tr>\n",
       "    <tr>\n",
       "      <th>26</th>\n",
       "      <td>MSW</td>\n",
       "      <td>Permanent wetlands</td>\n",
       "      <td>0.111845</td>\n",
       "      <td>8.942000e-01</td>\n",
       "    </tr>\n",
       "    <tr>\n",
       "      <th>27</th>\n",
       "      <td>MSW</td>\n",
       "      <td>Croplands</td>\n",
       "      <td>19.855355</td>\n",
       "      <td>4.315565e-09</td>\n",
       "    </tr>\n",
       "    <tr>\n",
       "      <th>28</th>\n",
       "      <td>MSW</td>\n",
       "      <td>Urban and built-up</td>\n",
       "      <td>36.266922</td>\n",
       "      <td>1.211914e-15</td>\n",
       "    </tr>\n",
       "    <tr>\n",
       "      <th>29</th>\n",
       "      <td>MSW</td>\n",
       "      <td>Cropland/Natural vegetation mosaic</td>\n",
       "      <td>15.640176</td>\n",
       "      <td>2.339190e-07</td>\n",
       "    </tr>\n",
       "    <tr>\n",
       "      <th>...</th>\n",
       "      <td>...</td>\n",
       "      <td>...</td>\n",
       "      <td>...</td>\n",
       "      <td>...</td>\n",
       "    </tr>\n",
       "    <tr>\n",
       "      <th>66</th>\n",
       "      <td>_BF</td>\n",
       "      <td>Water</td>\n",
       "      <td>1.238624</td>\n",
       "      <td>2.904798e-01</td>\n",
       "    </tr>\n",
       "    <tr>\n",
       "      <th>67</th>\n",
       "      <td>_BF</td>\n",
       "      <td>CropRatio</td>\n",
       "      <td>46.709678</td>\n",
       "      <td>1.176630e-19</td>\n",
       "    </tr>\n",
       "    <tr>\n",
       "      <th>68</th>\n",
       "      <td>_BF</td>\n",
       "      <td>AvgUrbanNTL</td>\n",
       "      <td>4.549904</td>\n",
       "      <td>1.091397e-02</td>\n",
       "    </tr>\n",
       "    <tr>\n",
       "      <th>69</th>\n",
       "      <td>_BF</td>\n",
       "      <td>UrbanRatio</td>\n",
       "      <td>24.576857</td>\n",
       "      <td>5.226215e-11</td>\n",
       "    </tr>\n",
       "    <tr>\n",
       "      <th>70</th>\n",
       "      <td>_BF</td>\n",
       "      <td>CropRemainRatio</td>\n",
       "      <td>13.706149</td>\n",
       "      <td>1.485982e-06</td>\n",
       "    </tr>\n",
       "    <tr>\n",
       "      <th>71</th>\n",
       "      <td>_BF</td>\n",
       "      <td>UrbanRemainRatio</td>\n",
       "      <td>32.223062</td>\n",
       "      <td>4.668941e-14</td>\n",
       "    </tr>\n",
       "    <tr>\n",
       "      <th>72</th>\n",
       "      <td>_BF</td>\n",
       "      <td>forest</td>\n",
       "      <td>19.408609</td>\n",
       "      <td>6.573438e-09</td>\n",
       "    </tr>\n",
       "    <tr>\n",
       "      <th>73</th>\n",
       "      <td>_BF</td>\n",
       "      <td>grass_shrubs</td>\n",
       "      <td>0.736863</td>\n",
       "      <td>4.790205e-01</td>\n",
       "    </tr>\n",
       "    <tr>\n",
       "      <th>74</th>\n",
       "      <td>_BF</td>\n",
       "      <td>Permanent wetlands</td>\n",
       "      <td>7.767707</td>\n",
       "      <td>4.645235e-04</td>\n",
       "    </tr>\n",
       "    <tr>\n",
       "      <th>75</th>\n",
       "      <td>_BF</td>\n",
       "      <td>Croplands</td>\n",
       "      <td>29.953317</td>\n",
       "      <td>3.692320e-13</td>\n",
       "    </tr>\n",
       "    <tr>\n",
       "      <th>76</th>\n",
       "      <td>_BF</td>\n",
       "      <td>Urban and built-up</td>\n",
       "      <td>46.696881</td>\n",
       "      <td>1.189836e-19</td>\n",
       "    </tr>\n",
       "    <tr>\n",
       "      <th>77</th>\n",
       "      <td>_BF</td>\n",
       "      <td>Cropland/Natural vegetation mosaic</td>\n",
       "      <td>2.125183</td>\n",
       "      <td>1.202570e-01</td>\n",
       "    </tr>\n",
       "    <tr>\n",
       "      <th>78</th>\n",
       "      <td>_BF</td>\n",
       "      <td>Barren or sparsely vegetated</td>\n",
       "      <td>2.160144</td>\n",
       "      <td>1.161525e-01</td>\n",
       "    </tr>\n",
       "    <tr>\n",
       "      <th>79</th>\n",
       "      <td>_BF</td>\n",
       "      <td>Natural</td>\n",
       "      <td>2.528655</td>\n",
       "      <td>8.056666e-02</td>\n",
       "    </tr>\n",
       "    <tr>\n",
       "      <th>80</th>\n",
       "      <td>EMP</td>\n",
       "      <td>mean</td>\n",
       "      <td>108.411433</td>\n",
       "      <td>3.004491e-41</td>\n",
       "    </tr>\n",
       "    <tr>\n",
       "      <th>81</th>\n",
       "      <td>EMP</td>\n",
       "      <td>sum</td>\n",
       "      <td>15.928173</td>\n",
       "      <td>1.777853e-07</td>\n",
       "    </tr>\n",
       "    <tr>\n",
       "      <th>82</th>\n",
       "      <td>EMP</td>\n",
       "      <td>Water</td>\n",
       "      <td>2.653972</td>\n",
       "      <td>7.114922e-02</td>\n",
       "    </tr>\n",
       "    <tr>\n",
       "      <th>83</th>\n",
       "      <td>EMP</td>\n",
       "      <td>CropRatio</td>\n",
       "      <td>32.166980</td>\n",
       "      <td>4.912904e-14</td>\n",
       "    </tr>\n",
       "    <tr>\n",
       "      <th>84</th>\n",
       "      <td>EMP</td>\n",
       "      <td>AvgUrbanNTL</td>\n",
       "      <td>10.696077</td>\n",
       "      <td>2.698045e-05</td>\n",
       "    </tr>\n",
       "    <tr>\n",
       "      <th>85</th>\n",
       "      <td>EMP</td>\n",
       "      <td>UrbanRatio</td>\n",
       "      <td>34.569377</td>\n",
       "      <td>5.583792e-15</td>\n",
       "    </tr>\n",
       "    <tr>\n",
       "      <th>86</th>\n",
       "      <td>EMP</td>\n",
       "      <td>CropRemainRatio</td>\n",
       "      <td>21.647276</td>\n",
       "      <td>8.024483e-10</td>\n",
       "    </tr>\n",
       "    <tr>\n",
       "      <th>87</th>\n",
       "      <td>EMP</td>\n",
       "      <td>UrbanRemainRatio</td>\n",
       "      <td>42.150710</td>\n",
       "      <td>6.430020e-18</td>\n",
       "    </tr>\n",
       "    <tr>\n",
       "      <th>88</th>\n",
       "      <td>EMP</td>\n",
       "      <td>forest</td>\n",
       "      <td>19.112236</td>\n",
       "      <td>8.692921e-09</td>\n",
       "    </tr>\n",
       "    <tr>\n",
       "      <th>89</th>\n",
       "      <td>EMP</td>\n",
       "      <td>grass_shrubs</td>\n",
       "      <td>9.044156</td>\n",
       "      <td>1.339389e-04</td>\n",
       "    </tr>\n",
       "    <tr>\n",
       "      <th>90</th>\n",
       "      <td>EMP</td>\n",
       "      <td>Permanent wetlands</td>\n",
       "      <td>6.937646</td>\n",
       "      <td>1.045597e-03</td>\n",
       "    </tr>\n",
       "    <tr>\n",
       "      <th>91</th>\n",
       "      <td>EMP</td>\n",
       "      <td>Croplands</td>\n",
       "      <td>13.500250</td>\n",
       "      <td>1.810389e-06</td>\n",
       "    </tr>\n",
       "    <tr>\n",
       "      <th>92</th>\n",
       "      <td>EMP</td>\n",
       "      <td>Urban and built-up</td>\n",
       "      <td>30.658158</td>\n",
       "      <td>1.939934e-13</td>\n",
       "    </tr>\n",
       "    <tr>\n",
       "      <th>93</th>\n",
       "      <td>EMP</td>\n",
       "      <td>Cropland/Natural vegetation mosaic</td>\n",
       "      <td>9.625288</td>\n",
       "      <td>7.615714e-05</td>\n",
       "    </tr>\n",
       "    <tr>\n",
       "      <th>94</th>\n",
       "      <td>EMP</td>\n",
       "      <td>Barren or sparsely vegetated</td>\n",
       "      <td>1.602262</td>\n",
       "      <td>2.022512e-01</td>\n",
       "    </tr>\n",
       "    <tr>\n",
       "      <th>95</th>\n",
       "      <td>EMP</td>\n",
       "      <td>Natural</td>\n",
       "      <td>17.397936</td>\n",
       "      <td>4.398649e-08</td>\n",
       "    </tr>\n",
       "  </tbody>\n",
       "</table>\n",
       "<p>96 rows × 4 columns</p>\n",
       "</div>"
      ],
      "text/plain": [
       "   labels                            features       f_val         p_val\n",
       "0     MSL                                mean   52.603639  7.180093e-22\n",
       "1     MSL                                 sum   70.535697  2.131645e-28\n",
       "2     MSL                               Water    0.963114  3.822574e-01\n",
       "3     MSL                           CropRatio   21.135332  1.296458e-09\n",
       "4     MSL                         AvgUrbanNTL   10.372960  3.688795e-05\n",
       "5     MSL                          UrbanRatio    8.615008  2.033554e-04\n",
       "6     MSL                     CropRemainRatio    7.321086  7.185957e-04\n",
       "7     MSL                    UrbanRemainRatio   13.048292  2.793839e-06\n",
       "8     MSL                              forest   10.256353  4.129880e-05\n",
       "9     MSL                        grass_shrubs    5.051653  6.657509e-03\n",
       "10    MSL                  Permanent wetlands    2.202432  1.113750e-01\n",
       "11    MSL                           Croplands    0.724701  4.848684e-01\n",
       "12    MSL                  Urban and built-up   24.552827  5.344119e-11\n",
       "13    MSL  Cropland/Natural vegetation mosaic   11.811342  9.188086e-06\n",
       "14    MSL        Barren or sparsely vegetated    0.502267  6.053968e-01\n",
       "15    MSL                             Natural    8.525030  2.219775e-04\n",
       "16    MSW                                mean   43.889250  1.390019e-18\n",
       "17    MSW                                 sum   69.125669  6.775869e-28\n",
       "18    MSW                               Water    0.673760  5.101511e-01\n",
       "19    MSW                           CropRatio   78.206465  4.245124e-31\n",
       "20    MSW                         AvgUrbanNTL    4.926877  7.527756e-03\n",
       "21    MSW                          UrbanRatio   11.908898  8.363309e-06\n",
       "22    MSW                     CropRemainRatio   12.717121  3.840923e-06\n",
       "23    MSW                    UrbanRemainRatio   13.143798  2.548952e-06\n",
       "24    MSW                              forest   32.320146  4.274985e-14\n",
       "25    MSW                        grass_shrubs    5.164315  5.958757e-03\n",
       "26    MSW                  Permanent wetlands    0.111845  8.942000e-01\n",
       "27    MSW                           Croplands   19.855355  4.315565e-09\n",
       "28    MSW                  Urban and built-up   36.266922  1.211914e-15\n",
       "29    MSW  Cropland/Natural vegetation mosaic   15.640176  2.339190e-07\n",
       "..    ...                                 ...         ...           ...\n",
       "66    _BF                               Water    1.238624  2.904798e-01\n",
       "67    _BF                           CropRatio   46.709678  1.176630e-19\n",
       "68    _BF                         AvgUrbanNTL    4.549904  1.091397e-02\n",
       "69    _BF                          UrbanRatio   24.576857  5.226215e-11\n",
       "70    _BF                     CropRemainRatio   13.706149  1.485982e-06\n",
       "71    _BF                    UrbanRemainRatio   32.223062  4.668941e-14\n",
       "72    _BF                              forest   19.408609  6.573438e-09\n",
       "73    _BF                        grass_shrubs    0.736863  4.790205e-01\n",
       "74    _BF                  Permanent wetlands    7.767707  4.645235e-04\n",
       "75    _BF                           Croplands   29.953317  3.692320e-13\n",
       "76    _BF                  Urban and built-up   46.696881  1.189836e-19\n",
       "77    _BF  Cropland/Natural vegetation mosaic    2.125183  1.202570e-01\n",
       "78    _BF        Barren or sparsely vegetated    2.160144  1.161525e-01\n",
       "79    _BF                             Natural    2.528655  8.056666e-02\n",
       "80    EMP                                mean  108.411433  3.004491e-41\n",
       "81    EMP                                 sum   15.928173  1.777853e-07\n",
       "82    EMP                               Water    2.653972  7.114922e-02\n",
       "83    EMP                           CropRatio   32.166980  4.912904e-14\n",
       "84    EMP                         AvgUrbanNTL   10.696077  2.698045e-05\n",
       "85    EMP                          UrbanRatio   34.569377  5.583792e-15\n",
       "86    EMP                     CropRemainRatio   21.647276  8.024483e-10\n",
       "87    EMP                    UrbanRemainRatio   42.150710  6.430020e-18\n",
       "88    EMP                              forest   19.112236  8.692921e-09\n",
       "89    EMP                        grass_shrubs    9.044156  1.339389e-04\n",
       "90    EMP                  Permanent wetlands    6.937646  1.045597e-03\n",
       "91    EMP                           Croplands   13.500250  1.810389e-06\n",
       "92    EMP                  Urban and built-up   30.658158  1.939934e-13\n",
       "93    EMP  Cropland/Natural vegetation mosaic    9.625288  7.615714e-05\n",
       "94    EMP        Barren or sparsely vegetated    1.602262  2.022512e-01\n",
       "95    EMP                             Natural   17.397936  4.398649e-08\n",
       "\n",
       "[96 rows x 4 columns]"
      ]
     },
     "execution_count": 149,
     "metadata": {},
     "output_type": "execute_result"
    }
   ],
   "source": [
    "df_results"
   ]
  },
  {
   "cell_type": "code",
   "execution_count": 29,
   "metadata": {
    "collapsed": true
   },
   "outputs": [],
   "source": [
    "x = [v[0] for v in  np.random.rand(300,1)]"
   ]
  },
  {
   "cell_type": "code",
   "execution_count": 27,
   "metadata": {},
   "outputs": [
    {
     "data": {
      "text/plain": [
       "array([1, 1, 1])"
      ]
     },
     "execution_count": 27,
     "metadata": {},
     "output_type": "execute_result"
    }
   ],
   "source": [
    "np.random.randint(1,2,3)"
   ]
  },
  {
   "cell_type": "code",
   "execution_count": 33,
   "metadata": {
    "collapsed": true
   },
   "outputs": [],
   "source": [
    "y = [1,2,3]*100"
   ]
  },
  {
   "cell_type": "code",
   "execution_count": 34,
   "metadata": {
    "collapsed": true
   },
   "outputs": [],
   "source": [
    "np.random.shuffle(y)"
   ]
  },
  {
   "cell_type": "code",
   "execution_count": 36,
   "metadata": {
    "collapsed": true
   },
   "outputs": [],
   "source": [
    "import scipy.stats as stats"
   ]
  },
  {
   "cell_type": "code",
   "execution_count": 37,
   "metadata": {},
   "outputs": [
    {
     "data": {
      "text/plain": [
       "F_onewayResult(statistic=895.0611406658503, pvalue=6.4341618165226438e-121)"
      ]
     },
     "execution_count": 37,
     "metadata": {},
     "output_type": "execute_result"
    }
   ],
   "source": [
    "stats.f_oneway(x,y)"
   ]
  },
  {
   "cell_type": "code",
   "execution_count": 39,
   "metadata": {
    "collapsed": true
   },
   "outputs": [],
   "source": [
    "import pandas as pd"
   ]
  },
  {
   "cell_type": "code",
   "execution_count": 1,
   "metadata": {},
   "outputs": [
    {
     "ename": "NameError",
     "evalue": "name 'pd' is not defined",
     "output_type": "error",
     "traceback": [
      "\u001b[0;31m---------------------------------------------------------------------------\u001b[0m",
      "\u001b[0;31mNameError\u001b[0m                                 Traceback (most recent call last)",
      "\u001b[0;32m<ipython-input-1-8e12d107f133>\u001b[0m in \u001b[0;36m<module>\u001b[0;34m()\u001b[0m\n\u001b[0;32m----> 1\u001b[0;31m \u001b[0mpd\u001b[0m\u001b[0;34m.\u001b[0m\u001b[0mread_csv\u001b[0m\u001b[0;34m(\u001b[0m\u001b[0;34m'Vill.csv'\u001b[0m\u001b[0;34m)\u001b[0m\u001b[0;34m\u001b[0m\u001b[0m\n\u001b[0m",
      "\u001b[0;31mNameError\u001b[0m: name 'pd' is not defined"
     ]
    }
   ],
   "source": [
    "pd.read_csv('Vill.csv')"
   ]
  },
  {
   "cell_type": "code",
   "execution_count": 40,
   "metadata": {
    "collapsed": true
   },
   "outputs": [],
   "source": [
    "df = pd.DataFrame({'Names': np.random.randint(1, 10, 1000), \n",
    "                   'value': np.random.randn(1000), \n",
    "                   'condition': np.random.choice(['NON', 'YES', 'RE'], 1000)})"
   ]
  },
  {
   "cell_type": "code",
   "execution_count": 42,
   "metadata": {},
   "outputs": [
    {
     "data": {
      "text/html": [
       "<div>\n",
       "<style>\n",
       "    .dataframe thead tr:only-child th {\n",
       "        text-align: right;\n",
       "    }\n",
       "\n",
       "    .dataframe thead th {\n",
       "        text-align: left;\n",
       "    }\n",
       "\n",
       "    .dataframe tbody tr th {\n",
       "        vertical-align: top;\n",
       "    }\n",
       "</style>\n",
       "<table border=\"1\" class=\"dataframe\">\n",
       "  <thead>\n",
       "    <tr style=\"text-align: right;\">\n",
       "      <th></th>\n",
       "      <th>Names</th>\n",
       "      <th>condition</th>\n",
       "      <th>value</th>\n",
       "    </tr>\n",
       "  </thead>\n",
       "  <tbody>\n",
       "    <tr>\n",
       "      <th>0</th>\n",
       "      <td>2</td>\n",
       "      <td>NON</td>\n",
       "      <td>-0.182259</td>\n",
       "    </tr>\n",
       "    <tr>\n",
       "      <th>1</th>\n",
       "      <td>6</td>\n",
       "      <td>RE</td>\n",
       "      <td>1.075159</td>\n",
       "    </tr>\n",
       "    <tr>\n",
       "      <th>2</th>\n",
       "      <td>4</td>\n",
       "      <td>NON</td>\n",
       "      <td>-1.477989</td>\n",
       "    </tr>\n",
       "    <tr>\n",
       "      <th>3</th>\n",
       "      <td>4</td>\n",
       "      <td>RE</td>\n",
       "      <td>-0.226871</td>\n",
       "    </tr>\n",
       "    <tr>\n",
       "      <th>4</th>\n",
       "      <td>3</td>\n",
       "      <td>RE</td>\n",
       "      <td>-2.548966</td>\n",
       "    </tr>\n",
       "  </tbody>\n",
       "</table>\n",
       "</div>"
      ],
      "text/plain": [
       "   Names condition     value\n",
       "0      2       NON -0.182259\n",
       "1      6        RE  1.075159\n",
       "2      4       NON -1.477989\n",
       "3      4        RE -0.226871\n",
       "4      3        RE -2.548966"
      ]
     },
     "execution_count": 42,
     "metadata": {},
     "output_type": "execute_result"
    }
   ],
   "source": [
    "df.head()"
   ]
  },
  {
   "cell_type": "code",
   "execution_count": 66,
   "metadata": {},
   "outputs": [
    {
     "name": "stdout",
     "output_type": "stream",
     "text": [
      "Name: 1, F value: 0.923, p value: 0.400\n",
      "Name: 2, F value: 0.813, p value: 0.447\n",
      "Name: 3, F value: 0.775, p value: 0.463\n",
      "Name: 4, F value: 0.326, p value: 0.722\n",
      "Name: 5, F value: 0.320, p value: 0.727\n",
      "Name: 6, F value: 0.523, p value: 0.594\n",
      "Name: 7, F value: 0.247, p value: 0.782\n",
      "Name: 8, F value: 0.031, p value: 0.969\n",
      "Name: 9, F value: 1.930, p value: 0.150\n"
     ]
    }
   ],
   "source": [
    "for name_group in df.groupby('Names'):\n",
    "    samples = [condition[1] for condition in name_group[1].groupby('condition')['value']]\n",
    "    f_val, p_val = stats.f_oneway(*samples)\n",
    "    print('Name: {}, F value: {:.3f}, p value: {:.3f}'.format(name_group[0], f_val, p_val))"
   ]
  },
  {
   "cell_type": "code",
   "execution_count": 64,
   "metadata": {},
   "outputs": [
    {
     "name": "stdout",
     "output_type": "stream",
     "text": [
      "NON\n",
      "RE\n",
      "YES\n"
     ]
    }
   ],
   "source": [
    "for condition in name_group[1].groupby('condition')['value']:\n",
    "    print condition[0]"
   ]
  },
  {
   "cell_type": "code",
   "execution_count": 72,
   "metadata": {},
   "outputs": [
    {
     "data": {
      "text/plain": [
       "F_onewayResult(statistic=1.9303455999576427, pvalue=0.15002605036912187)"
      ]
     },
     "execution_count": 72,
     "metadata": {},
     "output_type": "execute_result"
    }
   ],
   "source": [
    "stats.f_oneway(samples[0],samples[1],samples[2])"
   ]
  },
  {
   "cell_type": "code",
   "execution_count": 73,
   "metadata": {},
   "outputs": [
    {
     "data": {
      "text/plain": [
       "F_onewayResult(statistic=1.9303455999576427, pvalue=0.15002605036912187)"
      ]
     },
     "execution_count": 73,
     "metadata": {},
     "output_type": "execute_result"
    }
   ],
   "source": [
    "stats.f_oneway(*samples)"
   ]
  },
  {
   "cell_type": "code",
   "execution_count": null,
   "metadata": {
    "collapsed": true
   },
   "outputs": [],
   "source": []
  },
  {
   "cell_type": "code",
   "execution_count": null,
   "metadata": {
    "collapsed": true
   },
   "outputs": [],
   "source": []
  },
  {
   "cell_type": "code",
   "execution_count": null,
   "metadata": {
    "collapsed": true
   },
   "outputs": [],
   "source": []
  },
  {
   "cell_type": "code",
   "execution_count": null,
   "metadata": {
    "collapsed": true
   },
   "outputs": [],
   "source": []
  },
  {
   "cell_type": "code",
   "execution_count": null,
   "metadata": {
    "collapsed": true
   },
   "outputs": [],
   "source": []
  }
 ],
 "metadata": {
  "kernelspec": {
   "display_name": "Python 2",
   "language": "python",
   "name": "python2"
  },
  "language_info": {
   "codemirror_mode": {
    "name": "ipython",
    "version": 2
   },
   "file_extension": ".py",
   "mimetype": "text/x-python",
   "name": "python",
   "nbconvert_exporter": "python",
   "pygments_lexer": "ipython2",
   "version": "2.7.14"
  }
 },
 "nbformat": 4,
 "nbformat_minor": 2
}
