{
 "cells": [
  {
   "cell_type": "code",
   "execution_count": 1,
   "metadata": {
    "scrolled": true
   },
   "outputs": [
    {
     "name": "stdout",
     "output_type": "stream",
     "text": [
      "Using matplotlib backend: Qt4Agg\n",
      "Populating the interactive namespace from numpy and matplotlib\n"
     ]
    },
    {
     "name": "stderr",
     "output_type": "stream",
     "text": [
      "/home/deva/anaconda2/lib/python2.7/site-packages/sklearn/cross_validation.py:41: DeprecationWarning: This module was deprecated in version 0.18 in favor of the model_selection module into which all the refactored classes and functions are moved. Also note that the interface of the new CV iterators are different from that of this module. This module will be removed in 0.20.\n",
      "  \"This module will be removed in 0.20.\", DeprecationWarning)\n"
     ]
    }
   ],
   "source": [
    "### Import libraries\n",
    "import numpy as np\n",
    "import pandas as pd\n",
    "from sklearn.cluster import KMeans\n",
    "from sklearn.linear_model import LinearRegression\n",
    "from sklearn.linear_model import LogisticRegression\n",
    "from sklearn.cross_validation import train_test_split\n",
    "from sklearn import metrics\n",
    "from sklearn.feature_selection import RFE\n",
    "from sklearn import cross_validation\n",
    "from sklearn import preprocessing\n",
    "import matplotlib.pyplot as plt\n",
    "%pylab\n",
    "import statsmodels.discrete.discrete_model as sm"
   ]
  },
  {
   "cell_type": "code",
   "execution_count": 2,
   "metadata": {
    "collapsed": true
   },
   "outputs": [],
   "source": [
    "df_outliers = pd.read_excel('DistrictTypes.xlsx')"
   ]
  },
  {
   "cell_type": "code",
   "execution_count": 3,
   "metadata": {
    "scrolled": true
   },
   "outputs": [
    {
     "data": {
      "text/html": [
       "<div>\n",
       "<style>\n",
       "    .dataframe thead tr:only-child th {\n",
       "        text-align: right;\n",
       "    }\n",
       "\n",
       "    .dataframe thead th {\n",
       "        text-align: left;\n",
       "    }\n",
       "\n",
       "    .dataframe tbody tr th {\n",
       "        vertical-align: top;\n",
       "    }\n",
       "</style>\n",
       "<table border=\"1\" class=\"dataframe\">\n",
       "  <thead>\n",
       "    <tr style=\"text-align: right;\">\n",
       "      <th></th>\n",
       "      <th>District</th>\n",
       "      <th>State</th>\n",
       "      <th>Type</th>\n",
       "      <th>DistCode</th>\n",
       "    </tr>\n",
       "  </thead>\n",
       "  <tbody>\n",
       "    <tr>\n",
       "      <th>0</th>\n",
       "      <td>Agra</td>\n",
       "      <td>Uttar Pradesh</td>\n",
       "      <td>4. Large City</td>\n",
       "      <td>146</td>\n",
       "    </tr>\n",
       "    <tr>\n",
       "      <th>1</th>\n",
       "      <td>Ahmadabad</td>\n",
       "      <td>Gujarat</td>\n",
       "      <td>1. Metro</td>\n",
       "      <td>474</td>\n",
       "    </tr>\n",
       "    <tr>\n",
       "      <th>2</th>\n",
       "      <td>Aizawl</td>\n",
       "      <td>Mizoram</td>\n",
       "      <td>3. Capital</td>\n",
       "      <td>283</td>\n",
       "    </tr>\n",
       "    <tr>\n",
       "      <th>3</th>\n",
       "      <td>Ajmer</td>\n",
       "      <td>Rajasthan</td>\n",
       "      <td>4. Large City</td>\n",
       "      <td>119</td>\n",
       "    </tr>\n",
       "    <tr>\n",
       "      <th>4</th>\n",
       "      <td>Allahabad</td>\n",
       "      <td>Uttar Pradesh</td>\n",
       "      <td>4. Large City</td>\n",
       "      <td>175</td>\n",
       "    </tr>\n",
       "  </tbody>\n",
       "</table>\n",
       "</div>"
      ],
      "text/plain": [
       "     District          State           Type  DistCode\n",
       "0        Agra  Uttar Pradesh  4. Large City       146\n",
       "1   Ahmadabad        Gujarat       1. Metro       474\n",
       "2      Aizawl        Mizoram     3. Capital       283\n",
       "3       Ajmer      Rajasthan  4. Large City       119\n",
       "4  Allahabad   Uttar Pradesh  4. Large City       175"
      ]
     },
     "execution_count": 3,
     "metadata": {},
     "output_type": "execute_result"
    }
   ],
   "source": [
    "df_outliers.head()"
   ]
  },
  {
   "cell_type": "code",
   "execution_count": null,
   "metadata": {
    "collapsed": true
   },
   "outputs": [],
   "source": []
  },
  {
   "cell_type": "code",
   "execution_count": null,
   "metadata": {
    "collapsed": true
   },
   "outputs": [],
   "source": []
  },
  {
   "cell_type": "code",
   "execution_count": 4,
   "metadata": {
    "collapsed": true
   },
   "outputs": [],
   "source": [
    "snow_id = df_outliers[df_outliers['Type'] == '5. Snow Clad']['DistCode'].values.tolist()"
   ]
  },
  {
   "cell_type": "code",
   "execution_count": 5,
   "metadata": {
    "collapsed": true
   },
   "outputs": [],
   "source": [
    "metro = df_outliers[df_outliers['Type'] == '1. Metro']['DistCode'].values.tolist()"
   ]
  },
  {
   "cell_type": "code",
   "execution_count": 6,
   "metadata": {
    "collapsed": true
   },
   "outputs": [],
   "source": [
    "### Import Data Files\n",
    "df_satData = pd.read_csv('distSatellite_withLabels.csv')"
   ]
  },
  {
   "cell_type": "code",
   "execution_count": 7,
   "metadata": {
    "collapsed": true
   },
   "outputs": [],
   "source": [
    "df_satData = df_satData[~(df_satData['101'].isin(snow_id+metro))]"
   ]
  },
  {
   "cell_type": "code",
   "execution_count": 8,
   "metadata": {
    "collapsed": true
   },
   "outputs": [],
   "source": [
    "### List of labels\n",
    "lis_labelsAll = ['MSL_1','MSL_2','MSL_3','MSW_1','MSW_2','MSW_3','CHH_1','CHH_2','CHH_3','FC_1','FC_2','FC_3','BF_1','BF_2','BF_3','EMP_1','EMP_2','EMP_3']\n",
    "\n",
    "### List of useful Labels\n",
    "lis_labels= ['asset_1','asset_2','asset_3']"
   ]
  },
  {
   "cell_type": "code",
   "execution_count": 9,
   "metadata": {},
   "outputs": [
    {
     "data": {
      "text/html": [
       "<div>\n",
       "<style>\n",
       "    .dataframe thead tr:only-child th {\n",
       "        text-align: right;\n",
       "    }\n",
       "\n",
       "    .dataframe thead th {\n",
       "        text-align: left;\n",
       "    }\n",
       "\n",
       "    .dataframe tbody tr th {\n",
       "        vertical-align: top;\n",
       "    }\n",
       "</style>\n",
       "<table border=\"1\" class=\"dataframe\">\n",
       "  <thead>\n",
       "    <tr style=\"text-align: right;\">\n",
       "      <th></th>\n",
       "      <th>DISTRICT</th>\n",
       "      <th>101</th>\n",
       "      <th>DN_00</th>\n",
       "      <th>DN_01</th>\n",
       "      <th>DN_02</th>\n",
       "      <th>DN_03</th>\n",
       "      <th>DN_04</th>\n",
       "      <th>DN_05</th>\n",
       "      <th>DN_06</th>\n",
       "      <th>DN_07</th>\n",
       "      <th>...</th>\n",
       "      <th>CHH_3</th>\n",
       "      <th>FC_1</th>\n",
       "      <th>FC_2</th>\n",
       "      <th>FC_3</th>\n",
       "      <th>BF_1</th>\n",
       "      <th>BF_2</th>\n",
       "      <th>BF_3</th>\n",
       "      <th>EMP_1</th>\n",
       "      <th>EMP_2</th>\n",
       "      <th>EMP_3</th>\n",
       "    </tr>\n",
       "  </thead>\n",
       "  <tbody>\n",
       "    <tr>\n",
       "      <th>0</th>\n",
       "      <td>Adilabad</td>\n",
       "      <td>532</td>\n",
       "      <td>5237.12</td>\n",
       "      <td>0</td>\n",
       "      <td>0</td>\n",
       "      <td>0.76</td>\n",
       "      <td>1815.67</td>\n",
       "      <td>3332.38</td>\n",
       "      <td>2043.90</td>\n",
       "      <td>1049.05</td>\n",
       "      <td>...</td>\n",
       "      <td>0</td>\n",
       "      <td>1</td>\n",
       "      <td>0</td>\n",
       "      <td>0</td>\n",
       "      <td>1</td>\n",
       "      <td>0</td>\n",
       "      <td>0</td>\n",
       "      <td>0</td>\n",
       "      <td>1</td>\n",
       "      <td>0</td>\n",
       "    </tr>\n",
       "    <tr>\n",
       "      <th>1</th>\n",
       "      <td>Agra</td>\n",
       "      <td>146</td>\n",
       "      <td>401.66</td>\n",
       "      <td>0</td>\n",
       "      <td>0</td>\n",
       "      <td>0.00</td>\n",
       "      <td>48.54</td>\n",
       "      <td>451.36</td>\n",
       "      <td>620.77</td>\n",
       "      <td>441.57</td>\n",
       "      <td>...</td>\n",
       "      <td>0</td>\n",
       "      <td>0</td>\n",
       "      <td>0</td>\n",
       "      <td>1</td>\n",
       "      <td>0</td>\n",
       "      <td>0</td>\n",
       "      <td>1</td>\n",
       "      <td>1</td>\n",
       "      <td>0</td>\n",
       "      <td>0</td>\n",
       "    </tr>\n",
       "    <tr>\n",
       "      <th>3</th>\n",
       "      <td>Ahmadnagar</td>\n",
       "      <td>522</td>\n",
       "      <td>984.52</td>\n",
       "      <td>0</td>\n",
       "      <td>0</td>\n",
       "      <td>3.12</td>\n",
       "      <td>1756.19</td>\n",
       "      <td>3855.19</td>\n",
       "      <td>2683.53</td>\n",
       "      <td>1989.69</td>\n",
       "      <td>...</td>\n",
       "      <td>0</td>\n",
       "      <td>1</td>\n",
       "      <td>0</td>\n",
       "      <td>0</td>\n",
       "      <td>1</td>\n",
       "      <td>0</td>\n",
       "      <td>0</td>\n",
       "      <td>0</td>\n",
       "      <td>1</td>\n",
       "      <td>0</td>\n",
       "    </tr>\n",
       "    <tr>\n",
       "      <th>4</th>\n",
       "      <td>Aizawl</td>\n",
       "      <td>283</td>\n",
       "      <td>3412.59</td>\n",
       "      <td>0</td>\n",
       "      <td>0</td>\n",
       "      <td>0.00</td>\n",
       "      <td>49.31</td>\n",
       "      <td>102.02</td>\n",
       "      <td>42.99</td>\n",
       "      <td>27.32</td>\n",
       "      <td>...</td>\n",
       "      <td>0</td>\n",
       "      <td>0</td>\n",
       "      <td>0</td>\n",
       "      <td>1</td>\n",
       "      <td>0</td>\n",
       "      <td>0</td>\n",
       "      <td>1</td>\n",
       "      <td>0</td>\n",
       "      <td>0</td>\n",
       "      <td>1</td>\n",
       "    </tr>\n",
       "    <tr>\n",
       "      <th>5</th>\n",
       "      <td>Ajmer</td>\n",
       "      <td>119</td>\n",
       "      <td>3903.05</td>\n",
       "      <td>0</td>\n",
       "      <td>0</td>\n",
       "      <td>1.61</td>\n",
       "      <td>386.31</td>\n",
       "      <td>1286.76</td>\n",
       "      <td>648.55</td>\n",
       "      <td>490.42</td>\n",
       "      <td>...</td>\n",
       "      <td>0</td>\n",
       "      <td>0</td>\n",
       "      <td>0</td>\n",
       "      <td>1</td>\n",
       "      <td>0</td>\n",
       "      <td>0</td>\n",
       "      <td>1</td>\n",
       "      <td>0</td>\n",
       "      <td>0</td>\n",
       "      <td>1</td>\n",
       "    </tr>\n",
       "  </tbody>\n",
       "</table>\n",
       "<p>5 rows × 103 columns</p>\n",
       "</div>"
      ],
      "text/plain": [
       "     DISTRICT  101    DN_00  DN_01  DN_02  DN_03    DN_04    DN_05    DN_06  \\\n",
       "0    Adilabad  532  5237.12      0      0   0.76  1815.67  3332.38  2043.90   \n",
       "1        Agra  146   401.66      0      0   0.00    48.54   451.36   620.77   \n",
       "3  Ahmadnagar  522   984.52      0      0   3.12  1756.19  3855.19  2683.53   \n",
       "4      Aizawl  283  3412.59      0      0   0.00    49.31   102.02    42.99   \n",
       "5       Ajmer  119  3903.05      0      0   1.61   386.31  1286.76   648.55   \n",
       "\n",
       "     DN_07  ...    CHH_3  FC_1  FC_2  FC_3  BF_1  BF_2  BF_3  EMP_1  EMP_2  \\\n",
       "0  1049.05  ...        0     1     0     0     1     0     0      0      1   \n",
       "1   441.57  ...        0     0     0     1     0     0     1      1      0   \n",
       "3  1989.69  ...        0     1     0     0     1     0     0      0      1   \n",
       "4    27.32  ...        0     0     0     1     0     0     1      0      0   \n",
       "5   490.42  ...        0     0     0     1     0     0     1      0      0   \n",
       "\n",
       "   EMP_3  \n",
       "0      0  \n",
       "1      0  \n",
       "3      0  \n",
       "4      1  \n",
       "5      1  \n",
       "\n",
       "[5 rows x 103 columns]"
      ]
     },
     "execution_count": 9,
     "metadata": {},
     "output_type": "execute_result"
    }
   ],
   "source": [
    "df_satData.head()"
   ]
  },
  {
   "cell_type": "code",
   "execution_count": 10,
   "metadata": {},
   "outputs": [
    {
     "data": {
      "text/plain": [
       "(592, 103)"
      ]
     },
     "execution_count": 10,
     "metadata": {},
     "output_type": "execute_result"
    }
   ],
   "source": [
    "df_satData.shape"
   ]
  },
  {
   "cell_type": "code",
   "execution_count": 11,
   "metadata": {
    "collapsed": true
   },
   "outputs": [],
   "source": [
    "cols = df_satData.columns.tolist()"
   ]
  },
  {
   "cell_type": "code",
   "execution_count": 12,
   "metadata": {
    "collapsed": true
   },
   "outputs": [],
   "source": [
    "cols_new = cols[2:cols.index('MSL_1')]"
   ]
  },
  {
   "cell_type": "code",
   "execution_count": 13,
   "metadata": {
    "collapsed": true
   },
   "outputs": [],
   "source": [
    "pure_modis_features = cols[cols.index('Water'):cols.index('MSL_1')]"
   ]
  },
  {
   "cell_type": "markdown",
   "metadata": {
    "collapsed": true
   },
   "source": [
    "## Building features from night light data"
   ]
  },
  {
   "cell_type": "code",
   "execution_count": 14,
   "metadata": {
    "collapsed": true
   },
   "outputs": [],
   "source": [
    "var = []\n",
    "for i in range(64):\n",
    "    var.append('DN_' + str(i).zfill(2))\n",
    "\n",
    "df_satData['Area'] = 0\n",
    "for i in var:\n",
    "    df_satData['Area']=df_satData['Area'] + df_satData[i]\n",
    "df_satData['Area'] = df_satData['Area'].replace(0,1)\n"
   ]
  },
  {
   "cell_type": "markdown",
   "metadata": {},
   "source": [
    "## Building features out of Modis Data"
   ]
  },
  {
   "cell_type": "code",
   "execution_count": 15,
   "metadata": {
    "collapsed": true
   },
   "outputs": [],
   "source": [
    "df_satData['Urban and built-up']=df_satData['Urban and built-up']+1\n",
    "df_satData['CropRatio']=(df_satData['Croplands']+df_satData['Cropland/Natural vegetation mosaic'])/df_satData['Area']\n",
    "#df_satData['AvgUrbanNTL']=df_satData['sum']/df_satData['Urban and built-up']\n",
    "df_satData['UrbanRatio']= df_satData['Urban and built-up']/df_satData['Area']\n",
    "\n",
    "df_satData['Natural']= 0\n",
    "for i in ['Water','Evergreen Needleleaf forest','Evergreen Broadleaf forest','Deciduous Needleleaf forest','Deciduous Broadleaf forest','Mixed forest','Closed shrublands','Open shrublands','Woody savannas','Savannas','Grasslands','Permanent wetlands','Snow and ice']:\n",
    "    df_satData['Natural']=df_satData['Natural']+df_satData[i]\n",
    "    \n",
    "df_satData['CropRemainRatio']=(df_satData['Croplands']+df_satData['Cropland/Natural vegetation mosaic'])/(df_satData['Area']-df_satData['Natural'])\n",
    "df_satData['UrbanRemainRatio']=df_satData['Urban and built-up']/(df_satData['Area']-df_satData['Natural'])\n",
    "#df_satData['UrbanRatio']=df_satData['UrbanRatio'].fillna(0)\n",
    "\n",
    "\n",
    "forest =['Evergreen Broadleaf forest','Deciduous Broadleaf forest','Mixed forest']\n",
    "df_satData['forest'] = df_satData[forest].sum(axis=1)\n",
    "\n",
    "grass_shrubs =['Closed shrublands','Open shrublands','Woody savannas','Savannas','Grasslands']\n",
    "df_satData['grass_shrubs'] = df_satData[grass_shrubs].sum(axis=1)\n"
   ]
  },
  {
   "cell_type": "code",
   "execution_count": 16,
   "metadata": {
    "collapsed": true
   },
   "outputs": [],
   "source": [
    "modi_area = df_satData[pure_modis_features].sum(axis=1).values.tolist()"
   ]
  },
  {
   "cell_type": "code",
   "execution_count": 17,
   "metadata": {
    "collapsed": true
   },
   "outputs": [],
   "source": [
    "left_area = [df_satData['Area'].values.tolist()[i]-modi_area[i] for i in range(len(df_satData))]"
   ]
  },
  {
   "cell_type": "code",
   "execution_count": 18,
   "metadata": {
    "collapsed": true
   },
   "outputs": [],
   "source": [
    "modi_var = []\n",
    "modi_var=['CropRatio', 'UrbanRatio', 'CropRemainRatio', 'UrbanRemainRatio','Natural']\n",
    "for i in ['Croplands',\n",
    " 'Urban and built-up',\n",
    " 'Cropland/Natural vegetation mosaic',\n",
    " 'forest',\n",
    " 'grass_shrubs']:\n",
    "    df_satData['mod_'+i]=df_satData[i]/df_satData['Area']\n",
    "    modi_var.append('mod_'+i)\n",
    "    modi_var.append(i)\n",
    "#modi_var.append('left_area')"
   ]
  },
  {
   "cell_type": "code",
   "execution_count": 19,
   "metadata": {
    "collapsed": true
   },
   "outputs": [],
   "source": [
    "## making log of sum"
   ]
  },
  {
   "cell_type": "code",
   "execution_count": 20,
   "metadata": {},
   "outputs": [
    {
     "name": "stderr",
     "output_type": "stream",
     "text": [
      "/home/deva/anaconda2/lib/python2.7/site-packages/ipykernel_launcher.py:1: RuntimeWarning: divide by zero encountered in log10\n",
      "  \"\"\"Entry point for launching an IPython kernel.\n"
     ]
    }
   ],
   "source": [
    "df_satData.loc[:,'logSum'] = log10(df_satData['sum'])"
   ]
  },
  {
   "cell_type": "code",
   "execution_count": 21,
   "metadata": {
    "collapsed": true
   },
   "outputs": [],
   "source": [
    "y = df_satData['sum'].values"
   ]
  },
  {
   "cell_type": "code",
   "execution_count": 22,
   "metadata": {
    "collapsed": true
   },
   "outputs": [],
   "source": [
    "X = df_satData[modi_var]"
   ]
  },
  {
   "cell_type": "code",
   "execution_count": 23,
   "metadata": {
    "collapsed": true
   },
   "outputs": [],
   "source": [
    "X = X.values"
   ]
  },
  {
   "cell_type": "code",
   "execution_count": 24,
   "metadata": {
    "collapsed": true
   },
   "outputs": [],
   "source": [
    "X = preprocessing.scale(X)"
   ]
  },
  {
   "cell_type": "code",
   "execution_count": 25,
   "metadata": {
    "collapsed": true
   },
   "outputs": [],
   "source": [
    "model = LinearRegression()"
   ]
  },
  {
   "cell_type": "code",
   "execution_count": 26,
   "metadata": {
    "collapsed": true,
    "scrolled": true
   },
   "outputs": [],
   "source": [
    "fit = model.fit(X,y)"
   ]
  },
  {
   "cell_type": "code",
   "execution_count": 27,
   "metadata": {
    "collapsed": true
   },
   "outputs": [],
   "source": [
    "yPredict = fit.predict(X)"
   ]
  },
  {
   "cell_type": "code",
   "execution_count": null,
   "metadata": {
    "collapsed": true
   },
   "outputs": [],
   "source": []
  },
  {
   "cell_type": "code",
   "execution_count": null,
   "metadata": {
    "collapsed": true
   },
   "outputs": [],
   "source": []
  },
  {
   "cell_type": "code",
   "execution_count": 28,
   "metadata": {},
   "outputs": [
    {
     "name": "stdout",
     "output_type": "stream",
     "text": [
      "coefficient of determination R^2 of the prediction is : \n",
      "0.738995086255\n",
      "\n",
      "mean square error is:\n",
      "1.70382088176e+20\n",
      "\n",
      "root mean square error is:\n",
      "13053048999.2\n"
     ]
    }
   ],
   "source": [
    "#coefficient of determination R^2 of the prediction\n",
    "scr = model.score(X,y)\n",
    "print 'coefficient of determination R^2 of the prediction is : '\n",
    "print scr\n",
    "print \n",
    "\n",
    "print 'mean square error is:'\n",
    "print metrics.mean_squared_error(y,yPredict)\n",
    "print \n",
    "\n",
    "print 'root mean square error is:'\n",
    "print sqrt(metrics.mean_squared_error(y,yPredict))"
   ]
  },
  {
   "cell_type": "code",
   "execution_count": 29,
   "metadata": {
    "collapsed": true
   },
   "outputs": [],
   "source": [
    "from sklearn.feature_selection import RFE"
   ]
  },
  {
   "cell_type": "code",
   "execution_count": 30,
   "metadata": {},
   "outputs": [
    {
     "data": {
      "text/plain": [
       "array([False, False, False, False, False, False, False, False,  True,\n",
       "       False, False, False, False, False, False], dtype=bool)"
      ]
     },
     "execution_count": 30,
     "metadata": {},
     "output_type": "execute_result"
    }
   ],
   "source": [
    "estimator = LinearRegression()\n",
    "selector = RFE(estimator, 1, step=1)\n",
    "selector = selector.fit(X, y)\n",
    "selector.support_ "
   ]
  },
  {
   "cell_type": "code",
   "execution_count": 32,
   "metadata": {},
   "outputs": [],
   "source": [
    "ranks = selector.ranking_"
   ]
  },
  {
   "cell_type": "code",
   "execution_count": 36,
   "metadata": {},
   "outputs": [],
   "source": [
    "df_modiVarRanks = pd.DataFrame(modi_var,ranks)"
   ]
  },
  {
   "cell_type": "code",
   "execution_count": 37,
   "metadata": {
    "collapsed": true
   },
   "outputs": [],
   "source": [
    "df_modiVarRanks.reset_index(inplace=True)"
   ]
  },
  {
   "cell_type": "code",
   "execution_count": 39,
   "metadata": {},
   "outputs": [],
   "source": [
    "df_modiVarRanks.columns = ['ranks','modi_var']"
   ]
  },
  {
   "cell_type": "code",
   "execution_count": 46,
   "metadata": {},
   "outputs": [],
   "source": [
    "df_modiVarRanks.sort_values(by='ranks').to_csv('modiVarRanked.csv',index=False)"
   ]
  },
  {
   "cell_type": "markdown",
   "metadata": {},
   "source": [
    "#### doing linear regression with statsmodel to get the pvalues"
   ]
  },
  {
   "cell_type": "code",
   "execution_count": 47,
   "metadata": {},
   "outputs": [
    {
     "name": "stderr",
     "output_type": "stream",
     "text": [
      "/home/deva/anaconda2/lib/python2.7/site-packages/statsmodels/compat/pandas.py:56: FutureWarning: The pandas.core.datetools module is deprecated and will be removed in a future version. Please use the pandas.tseries module instead.\n",
      "  from pandas.core import datetools\n"
     ]
    }
   ],
   "source": [
    "import statsmodels.api as sm"
   ]
  },
  {
   "cell_type": "code",
   "execution_count": 49,
   "metadata": {},
   "outputs": [],
   "source": [
    "X = sm.add_constant(X)"
   ]
  },
  {
   "cell_type": "code",
   "execution_count": 51,
   "metadata": {},
   "outputs": [],
   "source": [
    "model = sm.OLS(y,X)"
   ]
  },
  {
   "cell_type": "code",
   "execution_count": 53,
   "metadata": {},
   "outputs": [],
   "source": [
    "results = model.fit()"
   ]
  },
  {
   "cell_type": "code",
   "execution_count": 64,
   "metadata": {},
   "outputs": [],
   "source": [
    "df_modiVarPvals = pd.DataFrame(results.pvalues,['constant']+modi_var)"
   ]
  },
  {
   "cell_type": "code",
   "execution_count": 66,
   "metadata": {},
   "outputs": [
    {
     "data": {
      "text/html": [
       "<div>\n",
       "<style>\n",
       "    .dataframe thead tr:only-child th {\n",
       "        text-align: right;\n",
       "    }\n",
       "\n",
       "    .dataframe thead th {\n",
       "        text-align: left;\n",
       "    }\n",
       "\n",
       "    .dataframe tbody tr th {\n",
       "        vertical-align: top;\n",
       "    }\n",
       "</style>\n",
       "<table border=\"1\" class=\"dataframe\">\n",
       "  <thead>\n",
       "    <tr style=\"text-align: right;\">\n",
       "      <th></th>\n",
       "      <th>0</th>\n",
       "    </tr>\n",
       "  </thead>\n",
       "  <tbody>\n",
       "    <tr>\n",
       "      <th>constant</th>\n",
       "      <td>2.768034e-187</td>\n",
       "    </tr>\n",
       "    <tr>\n",
       "      <th>Urban and built-up</th>\n",
       "      <td>7.611197e-50</td>\n",
       "    </tr>\n",
       "    <tr>\n",
       "      <th>Croplands</th>\n",
       "      <td>1.505882e-40</td>\n",
       "    </tr>\n",
       "    <tr>\n",
       "      <th>Cropland/Natural vegetation mosaic</th>\n",
       "      <td>5.587839e-13</td>\n",
       "    </tr>\n",
       "    <tr>\n",
       "      <th>forest</th>\n",
       "      <td>7.389629e-02</td>\n",
       "    </tr>\n",
       "    <tr>\n",
       "      <th>Natural</th>\n",
       "      <td>1.640147e-01</td>\n",
       "    </tr>\n",
       "    <tr>\n",
       "      <th>mod_Croplands</th>\n",
       "      <td>1.783188e-01</td>\n",
       "    </tr>\n",
       "    <tr>\n",
       "      <th>mod_grass_shrubs</th>\n",
       "      <td>2.241915e-01</td>\n",
       "    </tr>\n",
       "    <tr>\n",
       "      <th>grass_shrubs</th>\n",
       "      <td>3.441705e-01</td>\n",
       "    </tr>\n",
       "    <tr>\n",
       "      <th>CropRatio</th>\n",
       "      <td>3.477093e-01</td>\n",
       "    </tr>\n",
       "    <tr>\n",
       "      <th>mod_Cropland/Natural vegetation mosaic</th>\n",
       "      <td>4.047432e-01</td>\n",
       "    </tr>\n",
       "    <tr>\n",
       "      <th>UrbanRemainRatio</th>\n",
       "      <td>5.481340e-01</td>\n",
       "    </tr>\n",
       "    <tr>\n",
       "      <th>UrbanRatio</th>\n",
       "      <td>6.214655e-01</td>\n",
       "    </tr>\n",
       "    <tr>\n",
       "      <th>mod_Urban and built-up</th>\n",
       "      <td>6.214655e-01</td>\n",
       "    </tr>\n",
       "    <tr>\n",
       "      <th>CropRemainRatio</th>\n",
       "      <td>6.544277e-01</td>\n",
       "    </tr>\n",
       "    <tr>\n",
       "      <th>mod_forest</th>\n",
       "      <td>7.433994e-01</td>\n",
       "    </tr>\n",
       "  </tbody>\n",
       "</table>\n",
       "</div>"
      ],
      "text/plain": [
       "                                                    0\n",
       "constant                                2.768034e-187\n",
       "Urban and built-up                       7.611197e-50\n",
       "Croplands                                1.505882e-40\n",
       "Cropland/Natural vegetation mosaic       5.587839e-13\n",
       "forest                                   7.389629e-02\n",
       "Natural                                  1.640147e-01\n",
       "mod_Croplands                            1.783188e-01\n",
       "mod_grass_shrubs                         2.241915e-01\n",
       "grass_shrubs                             3.441705e-01\n",
       "CropRatio                                3.477093e-01\n",
       "mod_Cropland/Natural vegetation mosaic   4.047432e-01\n",
       "UrbanRemainRatio                         5.481340e-01\n",
       "UrbanRatio                               6.214655e-01\n",
       "mod_Urban and built-up                   6.214655e-01\n",
       "CropRemainRatio                          6.544277e-01\n",
       "mod_forest                               7.433994e-01"
      ]
     },
     "execution_count": 66,
     "metadata": {},
     "output_type": "execute_result"
    }
   ],
   "source": [
    "df_modiVarPvals.sort_values(by=0)"
   ]
  },
  {
   "cell_type": "code",
   "execution_count": 63,
   "metadata": {},
   "outputs": [
    {
     "data": {
      "text/html": [
       "<table class=\"simpletable\">\n",
       "<caption>OLS Regression Results</caption>\n",
       "<tr>\n",
       "  <th>Dep. Variable:</th>            <td>y</td>        <th>  R-squared:         </th> <td>   0.739</td> \n",
       "</tr>\n",
       "<tr>\n",
       "  <th>Model:</th>                   <td>OLS</td>       <th>  Adj. R-squared:    </th> <td>   0.733</td> \n",
       "</tr>\n",
       "<tr>\n",
       "  <th>Method:</th>             <td>Least Squares</td>  <th>  F-statistic:       </th> <td>   125.9</td> \n",
       "</tr>\n",
       "<tr>\n",
       "  <th>Date:</th>             <td>Wed, 04 Jul 2018</td> <th>  Prob (F-statistic):</th> <td>6.23e-159</td>\n",
       "</tr>\n",
       "<tr>\n",
       "  <th>Time:</th>                 <td>12:26:01</td>     <th>  Log-Likelihood:    </th> <td> -14629.</td> \n",
       "</tr>\n",
       "<tr>\n",
       "  <th>No. Observations:</th>      <td>   592</td>      <th>  AIC:               </th> <td>2.929e+04</td>\n",
       "</tr>\n",
       "<tr>\n",
       "  <th>Df Residuals:</th>          <td>   578</td>      <th>  BIC:               </th> <td>2.935e+04</td>\n",
       "</tr>\n",
       "<tr>\n",
       "  <th>Df Model:</th>              <td>    13</td>      <th>                     </th>     <td> </td>    \n",
       "</tr>\n",
       "<tr>\n",
       "  <th>Covariance Type:</th>      <td>nonrobust</td>    <th>                     </th>     <td> </td>    \n",
       "</tr>\n",
       "</table>\n",
       "<table class=\"simpletable\">\n",
       "<tr>\n",
       "    <td></td>       <th>coef</th>     <th>std err</th>      <th>t</th>      <th>P>|t|</th>  <th>[0.025</th>    <th>0.975]</th>  \n",
       "</tr>\n",
       "<tr>\n",
       "  <th>const</th> <td> 2.397e+10</td> <td> 5.43e+08</td> <td>   44.143</td> <td> 0.000</td> <td> 2.29e+10</td> <td>  2.5e+10</td>\n",
       "</tr>\n",
       "<tr>\n",
       "  <th>x1</th>    <td> -2.29e+09</td> <td> 2.44e+09</td> <td>   -0.940</td> <td> 0.348</td> <td>-7.07e+09</td> <td>  2.5e+09</td>\n",
       "</tr>\n",
       "<tr>\n",
       "  <th>x2</th>    <td>-3.411e+08</td> <td>  6.9e+08</td> <td>   -0.494</td> <td> 0.621</td> <td> -1.7e+09</td> <td> 1.01e+09</td>\n",
       "</tr>\n",
       "<tr>\n",
       "  <th>x3</th>    <td> 4.317e+08</td> <td> 9.64e+08</td> <td>    0.448</td> <td> 0.654</td> <td>-1.46e+09</td> <td> 2.32e+09</td>\n",
       "</tr>\n",
       "<tr>\n",
       "  <th>x4</th>    <td>-9.567e+08</td> <td> 1.59e+09</td> <td>   -0.601</td> <td> 0.548</td> <td>-4.08e+09</td> <td> 2.17e+09</td>\n",
       "</tr>\n",
       "<tr>\n",
       "  <th>x5</th>    <td> 6.313e+09</td> <td> 4.53e+09</td> <td>    1.393</td> <td> 0.164</td> <td>-2.58e+09</td> <td> 1.52e+10</td>\n",
       "</tr>\n",
       "<tr>\n",
       "  <th>x6</th>    <td>-2.533e+09</td> <td> 1.88e+09</td> <td>   -1.348</td> <td> 0.178</td> <td>-6.22e+09</td> <td> 1.16e+09</td>\n",
       "</tr>\n",
       "<tr>\n",
       "  <th>x7</th>    <td> 1.142e+10</td> <td> 7.91e+08</td> <td>   14.433</td> <td> 0.000</td> <td> 9.87e+09</td> <td>  1.3e+10</td>\n",
       "</tr>\n",
       "<tr>\n",
       "  <th>x8</th>    <td>-3.411e+08</td> <td>  6.9e+08</td> <td>   -0.494</td> <td> 0.621</td> <td> -1.7e+09</td> <td> 1.01e+09</td>\n",
       "</tr>\n",
       "<tr>\n",
       "  <th>x9</th>    <td> 1.092e+10</td> <td> 6.67e+08</td> <td>   16.386</td> <td> 0.000</td> <td> 9.61e+09</td> <td> 1.22e+10</td>\n",
       "</tr>\n",
       "<tr>\n",
       "  <th>x10</th>   <td> 1.012e+09</td> <td> 1.21e+09</td> <td>    0.834</td> <td> 0.405</td> <td>-1.37e+09</td> <td>  3.4e+09</td>\n",
       "</tr>\n",
       "<tr>\n",
       "  <th>x11</th>   <td> 7.205e+09</td> <td> 9.76e+08</td> <td>    7.379</td> <td> 0.000</td> <td> 5.29e+09</td> <td> 9.12e+09</td>\n",
       "</tr>\n",
       "<tr>\n",
       "  <th>x12</th>   <td>-9.829e+08</td> <td>    3e+09</td> <td>   -0.328</td> <td> 0.743</td> <td>-6.88e+09</td> <td> 4.91e+09</td>\n",
       "</tr>\n",
       "<tr>\n",
       "  <th>x13</th>   <td>-3.917e+09</td> <td> 2.19e+09</td> <td>   -1.791</td> <td> 0.074</td> <td>-8.21e+09</td> <td>  3.8e+08</td>\n",
       "</tr>\n",
       "<tr>\n",
       "  <th>x14</th>   <td>-2.813e+09</td> <td> 2.31e+09</td> <td>   -1.217</td> <td> 0.224</td> <td>-7.35e+09</td> <td> 1.73e+09</td>\n",
       "</tr>\n",
       "<tr>\n",
       "  <th>x15</th>   <td>-3.585e+09</td> <td> 3.79e+09</td> <td>   -0.947</td> <td> 0.344</td> <td> -1.1e+10</td> <td> 3.85e+09</td>\n",
       "</tr>\n",
       "</table>\n",
       "<table class=\"simpletable\">\n",
       "<tr>\n",
       "  <th>Omnibus:</th>       <td>55.285</td> <th>  Durbin-Watson:     </th> <td>   1.943</td>\n",
       "</tr>\n",
       "<tr>\n",
       "  <th>Prob(Omnibus):</th> <td> 0.000</td> <th>  Jarque-Bera (JB):  </th> <td>  81.121</td>\n",
       "</tr>\n",
       "<tr>\n",
       "  <th>Skew:</th>          <td> 0.673</td> <th>  Prob(JB):          </th> <td>2.43e-18</td>\n",
       "</tr>\n",
       "<tr>\n",
       "  <th>Kurtosis:</th>      <td> 4.215</td> <th>  Cond. No.          </th> <td>8.19e+16</td>\n",
       "</tr>\n",
       "</table>"
      ],
      "text/plain": [
       "<class 'statsmodels.iolib.summary.Summary'>\n",
       "\"\"\"\n",
       "                            OLS Regression Results                            \n",
       "==============================================================================\n",
       "Dep. Variable:                      y   R-squared:                       0.739\n",
       "Model:                            OLS   Adj. R-squared:                  0.733\n",
       "Method:                 Least Squares   F-statistic:                     125.9\n",
       "Date:                Wed, 04 Jul 2018   Prob (F-statistic):          6.23e-159\n",
       "Time:                        12:26:01   Log-Likelihood:                -14629.\n",
       "No. Observations:                 592   AIC:                         2.929e+04\n",
       "Df Residuals:                     578   BIC:                         2.935e+04\n",
       "Df Model:                          13                                         \n",
       "Covariance Type:            nonrobust                                         \n",
       "==============================================================================\n",
       "                 coef    std err          t      P>|t|      [0.025      0.975]\n",
       "------------------------------------------------------------------------------\n",
       "const       2.397e+10   5.43e+08     44.143      0.000    2.29e+10     2.5e+10\n",
       "x1          -2.29e+09   2.44e+09     -0.940      0.348   -7.07e+09     2.5e+09\n",
       "x2         -3.411e+08    6.9e+08     -0.494      0.621    -1.7e+09    1.01e+09\n",
       "x3          4.317e+08   9.64e+08      0.448      0.654   -1.46e+09    2.32e+09\n",
       "x4         -9.567e+08   1.59e+09     -0.601      0.548   -4.08e+09    2.17e+09\n",
       "x5          6.313e+09   4.53e+09      1.393      0.164   -2.58e+09    1.52e+10\n",
       "x6         -2.533e+09   1.88e+09     -1.348      0.178   -6.22e+09    1.16e+09\n",
       "x7          1.142e+10   7.91e+08     14.433      0.000    9.87e+09     1.3e+10\n",
       "x8         -3.411e+08    6.9e+08     -0.494      0.621    -1.7e+09    1.01e+09\n",
       "x9          1.092e+10   6.67e+08     16.386      0.000    9.61e+09    1.22e+10\n",
       "x10         1.012e+09   1.21e+09      0.834      0.405   -1.37e+09     3.4e+09\n",
       "x11         7.205e+09   9.76e+08      7.379      0.000    5.29e+09    9.12e+09\n",
       "x12        -9.829e+08      3e+09     -0.328      0.743   -6.88e+09    4.91e+09\n",
       "x13        -3.917e+09   2.19e+09     -1.791      0.074   -8.21e+09     3.8e+08\n",
       "x14        -2.813e+09   2.31e+09     -1.217      0.224   -7.35e+09    1.73e+09\n",
       "x15        -3.585e+09   3.79e+09     -0.947      0.344    -1.1e+10    3.85e+09\n",
       "==============================================================================\n",
       "Omnibus:                       55.285   Durbin-Watson:                   1.943\n",
       "Prob(Omnibus):                  0.000   Jarque-Bera (JB):               81.121\n",
       "Skew:                           0.673   Prob(JB):                     2.43e-18\n",
       "Kurtosis:                       4.215   Cond. No.                     8.19e+16\n",
       "==============================================================================\n",
       "\n",
       "Warnings:\n",
       "[1] Standard Errors assume that the covariance matrix of the errors is correctly specified.\n",
       "[2] The smallest eigenvalue is 4.08e-31. This might indicate that there are\n",
       "strong multicollinearity problems or that the design matrix is singular.\n",
       "\"\"\""
      ]
     },
     "execution_count": 63,
     "metadata": {},
     "output_type": "execute_result"
    }
   ],
   "source": [
    "results.summary()"
   ]
  },
  {
   "cell_type": "code",
   "execution_count": null,
   "metadata": {
    "collapsed": true
   },
   "outputs": [],
   "source": []
  },
  {
   "cell_type": "code",
   "execution_count": null,
   "metadata": {
    "collapsed": true
   },
   "outputs": [],
   "source": []
  },
  {
   "cell_type": "code",
   "execution_count": null,
   "metadata": {
    "collapsed": true
   },
   "outputs": [],
   "source": []
  },
  {
   "cell_type": "code",
   "execution_count": null,
   "metadata": {
    "collapsed": true
   },
   "outputs": [],
   "source": []
  },
  {
   "cell_type": "code",
   "execution_count": null,
   "metadata": {
    "collapsed": true
   },
   "outputs": [],
   "source": []
  },
  {
   "cell_type": "code",
   "execution_count": null,
   "metadata": {
    "collapsed": true
   },
   "outputs": [],
   "source": []
  },
  {
   "cell_type": "code",
   "execution_count": null,
   "metadata": {
    "collapsed": true
   },
   "outputs": [],
   "source": []
  },
  {
   "cell_type": "code",
   "execution_count": null,
   "metadata": {
    "collapsed": true
   },
   "outputs": [],
   "source": []
  },
  {
   "cell_type": "markdown",
   "metadata": {},
   "source": [
    "#### trying to do it via logistic regression by first doing clustering m"
   ]
  },
  {
   "cell_type": "code",
   "execution_count": null,
   "metadata": {
    "collapsed": true
   },
   "outputs": [],
   "source": [
    "sse = {}\n",
    "for k in range(1, 10):\n",
    "    kmeans = KMeans(n_clusters=k, max_iter=1000).fit(yPredict.reshape(-1, 1))\n",
    "    #print(data[\"clusters\"])\n",
    "    sse[k] = kmeans.inertia_ # Inertia: Sum of distances of samples to their closest cluster center\n",
    "plt.figure()\n",
    "plt.plot(list(sse.keys()), list(sse.values()))\n",
    "plt.xlabel(\"Number of cluster\")\n",
    "plt.ylabel(\"SSE\")\n",
    "plt.show()"
   ]
  },
  {
   "cell_type": "code",
   "execution_count": null,
   "metadata": {
    "collapsed": true
   },
   "outputs": [],
   "source": [
    "kmeans = KMeans(n_clusters=3, max_iter=1000).fit(y.reshape(-1, 1))\n",
    "yClustered = kmeans.labels_"
   ]
  },
  {
   "cell_type": "code",
   "execution_count": null,
   "metadata": {
    "collapsed": true
   },
   "outputs": [],
   "source": [
    "model2 = LogisticRegression()"
   ]
  },
  {
   "cell_type": "code",
   "execution_count": null,
   "metadata": {
    "collapsed": true
   },
   "outputs": [],
   "source": [
    "X = df_satData[modi_var].values"
   ]
  },
  {
   "cell_type": "code",
   "execution_count": null,
   "metadata": {
    "collapsed": true
   },
   "outputs": [],
   "source": [
    "X = preprocessing.scale(X)"
   ]
  },
  {
   "cell_type": "code",
   "execution_count": null,
   "metadata": {
    "collapsed": true
   },
   "outputs": [],
   "source": [
    "y = df_satData['clusters'].values"
   ]
  },
  {
   "cell_type": "code",
   "execution_count": null,
   "metadata": {
    "collapsed": true
   },
   "outputs": [],
   "source": [
    "fit = model2.fit(X,y)"
   ]
  },
  {
   "cell_type": "code",
   "execution_count": null,
   "metadata": {
    "collapsed": true
   },
   "outputs": [],
   "source": [
    "yPredict= model2.predict(X)"
   ]
  },
  {
   "cell_type": "code",
   "execution_count": null,
   "metadata": {},
   "outputs": [],
   "source": [
    "metrics.f1_score(yClustered,yPredictClustered,average='macro')"
   ]
  },
  {
   "cell_type": "code",
   "execution_count": null,
   "metadata": {},
   "outputs": [],
   "source": [
    "metrics.accuracy_score(yClustered,yPredictClustered)"
   ]
  },
  {
   "cell_type": "code",
   "execution_count": null,
   "metadata": {
    "collapsed": true
   },
   "outputs": [],
   "source": []
  }
 ],
 "metadata": {
  "anaconda-cloud": {},
  "kernelspec": {
   "display_name": "Python 2",
   "language": "python",
   "name": "python2"
  },
  "language_info": {
   "codemirror_mode": {
    "name": "ipython",
    "version": 2
   },
   "file_extension": ".py",
   "mimetype": "text/x-python",
   "name": "python",
   "nbconvert_exporter": "python",
   "pygments_lexer": "ipython2",
   "version": "2.7.14"
  }
 },
 "nbformat": 4,
 "nbformat_minor": 2
}
