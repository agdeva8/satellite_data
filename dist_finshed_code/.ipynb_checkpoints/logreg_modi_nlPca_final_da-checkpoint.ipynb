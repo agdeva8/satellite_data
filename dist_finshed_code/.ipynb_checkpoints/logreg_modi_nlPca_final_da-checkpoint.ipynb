{
 "cells": [
  {
   "cell_type": "code",
   "execution_count": 1,
   "metadata": {
    "scrolled": true
   },
   "outputs": [
    {
     "name": "stderr",
     "output_type": "stream",
     "text": [
      "/home/deva/anaconda2/lib/python2.7/site-packages/sklearn/cross_validation.py:41: DeprecationWarning: This module was deprecated in version 0.18 in favor of the model_selection module into which all the refactored classes and functions are moved. Also note that the interface of the new CV iterators are different from that of this module. This module will be removed in 0.20.\n",
      "  \"This module will be removed in 0.20.\", DeprecationWarning)\n"
     ]
    },
    {
     "name": "stdout",
     "output_type": "stream",
     "text": [
      "Using matplotlib backend: Qt4Agg\n",
      "Populating the interactive namespace from numpy and matplotlib\n"
     ]
    }
   ],
   "source": [
    "### Import libraries\n",
    "import numpy as np\n",
    "import pandas as pd\n",
    "from sklearn.linear_model import LogisticRegression\n",
    "from sklearn.cross_validation import train_test_split\n",
    "from sklearn import metrics\n",
    "from sklearn.feature_selection import RFE\n",
    "from sklearn import cross_validation\n",
    "from sklearn import preprocessing\n",
    "import matplotlib.pyplot as plt\n",
    "from sklearn.decomposition import PCA\n",
    "%pylab\n",
    "from sklearn.pipeline import make_pipeline\n",
    "from scipy.signal import argrelextrema\n",
    "import statsmodels.discrete.discrete_model as sm"
   ]
  },
  {
   "cell_type": "code",
   "execution_count": 2,
   "metadata": {
    "collapsed": true
   },
   "outputs": [],
   "source": [
    "df_outliers = pd.read_excel('DistrictTypes.xlsx')"
   ]
  },
  {
   "cell_type": "code",
   "execution_count": 3,
   "metadata": {
    "collapsed": true
   },
   "outputs": [
    {
     "data": {
      "text/html": [
       "<div>\n",
       "<style>\n",
       "    .dataframe thead tr:only-child th {\n",
       "        text-align: right;\n",
       "    }\n",
       "\n",
       "    .dataframe thead th {\n",
       "        text-align: left;\n",
       "    }\n",
       "\n",
       "    .dataframe tbody tr th {\n",
       "        vertical-align: top;\n",
       "    }\n",
       "</style>\n",
       "<table border=\"1\" class=\"dataframe\">\n",
       "  <thead>\n",
       "    <tr style=\"text-align: right;\">\n",
       "      <th></th>\n",
       "      <th>District</th>\n",
       "      <th>State</th>\n",
       "      <th>Type</th>\n",
       "      <th>DistCode</th>\n",
       "    </tr>\n",
       "  </thead>\n",
       "  <tbody>\n",
       "    <tr>\n",
       "      <th>0</th>\n",
       "      <td>Agra</td>\n",
       "      <td>Uttar Pradesh</td>\n",
       "      <td>4. Large City</td>\n",
       "      <td>146</td>\n",
       "    </tr>\n",
       "    <tr>\n",
       "      <th>1</th>\n",
       "      <td>Ahmadabad</td>\n",
       "      <td>Gujarat</td>\n",
       "      <td>1. Metro</td>\n",
       "      <td>474</td>\n",
       "    </tr>\n",
       "    <tr>\n",
       "      <th>2</th>\n",
       "      <td>Aizawl</td>\n",
       "      <td>Mizoram</td>\n",
       "      <td>3. Capital</td>\n",
       "      <td>283</td>\n",
       "    </tr>\n",
       "    <tr>\n",
       "      <th>3</th>\n",
       "      <td>Ajmer</td>\n",
       "      <td>Rajasthan</td>\n",
       "      <td>4. Large City</td>\n",
       "      <td>119</td>\n",
       "    </tr>\n",
       "    <tr>\n",
       "      <th>4</th>\n",
       "      <td>Allahabad</td>\n",
       "      <td>Uttar Pradesh</td>\n",
       "      <td>4. Large City</td>\n",
       "      <td>175</td>\n",
       "    </tr>\n",
       "    <tr>\n",
       "      <th>5</th>\n",
       "      <td>Almora\\n</td>\n",
       "      <td>Uttaranchal</td>\n",
       "      <td>5. Snow Clad</td>\n",
       "      <td>64</td>\n",
       "    </tr>\n",
       "    <tr>\n",
       "      <th>6</th>\n",
       "      <td>Ambala</td>\n",
       "      <td>Haryana</td>\n",
       "      <td>4. Large City</td>\n",
       "      <td>70</td>\n",
       "    </tr>\n",
       "    <tr>\n",
       "      <th>7</th>\n",
       "      <td>Amritsar</td>\n",
       "      <td>Punjab</td>\n",
       "      <td>4. Large City</td>\n",
       "      <td>49</td>\n",
       "    </tr>\n",
       "    <tr>\n",
       "      <th>8</th>\n",
       "      <td>Anantapur</td>\n",
       "      <td>Andhra Pradesh</td>\n",
       "      <td>4. Large City</td>\n",
       "      <td>553</td>\n",
       "    </tr>\n",
       "    <tr>\n",
       "      <th>9</th>\n",
       "      <td>Anantnag</td>\n",
       "      <td>Jammu &amp; Kashmir</td>\n",
       "      <td>5. Snow Clad</td>\n",
       "      <td>14</td>\n",
       "    </tr>\n",
       "    <tr>\n",
       "      <th>10</th>\n",
       "      <td>North  &amp; Middle Andaman</td>\n",
       "      <td>Andaman &amp; Nicobar Islands</td>\n",
       "      <td>3. Capital</td>\n",
       "      <td>639</td>\n",
       "    </tr>\n",
       "    <tr>\n",
       "      <th>11</th>\n",
       "      <td>Bageshwar</td>\n",
       "      <td>Uttaranchal</td>\n",
       "      <td>5. Snow Clad</td>\n",
       "      <td>63</td>\n",
       "    </tr>\n",
       "    <tr>\n",
       "      <th>12</th>\n",
       "      <td>Bangalore</td>\n",
       "      <td>Karnataka</td>\n",
       "      <td>1. Metro</td>\n",
       "      <td>572</td>\n",
       "    </tr>\n",
       "    <tr>\n",
       "      <th>13</th>\n",
       "      <td>Bangalore</td>\n",
       "      <td>Karnataka</td>\n",
       "      <td>3. Capital</td>\n",
       "      <td>572</td>\n",
       "    </tr>\n",
       "    <tr>\n",
       "      <th>14</th>\n",
       "      <td>Baramula</td>\n",
       "      <td>Jammu &amp; Kashmir</td>\n",
       "      <td>5. Snow Clad</td>\n",
       "      <td>8</td>\n",
       "    </tr>\n",
       "    <tr>\n",
       "      <th>15</th>\n",
       "      <td>Barddhaman</td>\n",
       "      <td>West Bengal</td>\n",
       "      <td>4. Large City</td>\n",
       "      <td>335</td>\n",
       "    </tr>\n",
       "    <tr>\n",
       "      <th>16</th>\n",
       "      <td>Bareilly</td>\n",
       "      <td>Uttar Pradesh</td>\n",
       "      <td>4. Large City</td>\n",
       "      <td>150</td>\n",
       "    </tr>\n",
       "    <tr>\n",
       "      <th>17</th>\n",
       "      <td>Bathinda</td>\n",
       "      <td>Punjab</td>\n",
       "      <td>4. Large City</td>\n",
       "      <td>46</td>\n",
       "    </tr>\n",
       "    <tr>\n",
       "      <th>18</th>\n",
       "      <td>Belgaum</td>\n",
       "      <td>Karnataka</td>\n",
       "      <td>4. Large City</td>\n",
       "      <td>555</td>\n",
       "    </tr>\n",
       "    <tr>\n",
       "      <th>19</th>\n",
       "      <td>Bhavnagar</td>\n",
       "      <td>Gujarat</td>\n",
       "      <td>4. Large City</td>\n",
       "      <td>481</td>\n",
       "    </tr>\n",
       "    <tr>\n",
       "      <th>20</th>\n",
       "      <td>Bhopal</td>\n",
       "      <td>Madhya Pradesh</td>\n",
       "      <td>3. Capital</td>\n",
       "      <td>444</td>\n",
       "    </tr>\n",
       "    <tr>\n",
       "      <th>21</th>\n",
       "      <td>Bikaner</td>\n",
       "      <td>Rajasthan</td>\n",
       "      <td>4. Large City</td>\n",
       "      <td>101</td>\n",
       "    </tr>\n",
       "    <tr>\n",
       "      <th>22</th>\n",
       "      <td>Bokaro</td>\n",
       "      <td>Jharkhand</td>\n",
       "      <td>4. Large City</td>\n",
       "      <td>355</td>\n",
       "    </tr>\n",
       "    <tr>\n",
       "      <th>23</th>\n",
       "      <td>Chamba</td>\n",
       "      <td>Himachal Pradesh</td>\n",
       "      <td>5. Snow Clad</td>\n",
       "      <td>23</td>\n",
       "    </tr>\n",
       "    <tr>\n",
       "      <th>24</th>\n",
       "      <td>Chamoli</td>\n",
       "      <td>Uttaranchal</td>\n",
       "      <td>5. Snow Clad</td>\n",
       "      <td>57</td>\n",
       "    </tr>\n",
       "    <tr>\n",
       "      <th>25</th>\n",
       "      <td>Champawat</td>\n",
       "      <td>Uttaranchal</td>\n",
       "      <td>5. Snow Clad</td>\n",
       "      <td>65</td>\n",
       "    </tr>\n",
       "    <tr>\n",
       "      <th>26</th>\n",
       "      <td>Chandigarh</td>\n",
       "      <td>Chandigarh</td>\n",
       "      <td>2. SubMetro</td>\n",
       "      <td>55</td>\n",
       "    </tr>\n",
       "    <tr>\n",
       "      <th>27</th>\n",
       "      <td>Chandigarh</td>\n",
       "      <td>Chandigarh</td>\n",
       "      <td>3. Capital</td>\n",
       "      <td>55</td>\n",
       "    </tr>\n",
       "    <tr>\n",
       "      <th>28</th>\n",
       "      <td>Chennai</td>\n",
       "      <td>Tamil Nadu</td>\n",
       "      <td>1. Metro</td>\n",
       "      <td>603</td>\n",
       "    </tr>\n",
       "    <tr>\n",
       "      <th>29</th>\n",
       "      <td>Chennai</td>\n",
       "      <td>Tamil Nadu</td>\n",
       "      <td>3. Capital</td>\n",
       "      <td>603</td>\n",
       "    </tr>\n",
       "    <tr>\n",
       "      <th>...</th>\n",
       "      <td>...</td>\n",
       "      <td>...</td>\n",
       "      <td>...</td>\n",
       "      <td>...</td>\n",
       "    </tr>\n",
       "    <tr>\n",
       "      <th>130</th>\n",
       "      <td>Shimla</td>\n",
       "      <td>Himachal Pradesh</td>\n",
       "      <td>3. Capital</td>\n",
       "      <td>33</td>\n",
       "    </tr>\n",
       "    <tr>\n",
       "      <th>131</th>\n",
       "      <td>Sirmaur</td>\n",
       "      <td>Himachal Pradesh</td>\n",
       "      <td>5. Snow Clad</td>\n",
       "      <td>32</td>\n",
       "    </tr>\n",
       "    <tr>\n",
       "      <th>132</th>\n",
       "      <td>Solan</td>\n",
       "      <td>Himachal Pradesh</td>\n",
       "      <td>5. Snow Clad</td>\n",
       "      <td>31</td>\n",
       "    </tr>\n",
       "    <tr>\n",
       "      <th>133</th>\n",
       "      <td>Solapur</td>\n",
       "      <td>Maharashtra</td>\n",
       "      <td>4. Large City</td>\n",
       "      <td>526</td>\n",
       "    </tr>\n",
       "    <tr>\n",
       "      <th>134</th>\n",
       "      <td>South Twenty Four Parganas</td>\n",
       "      <td>West Bengal</td>\n",
       "      <td>2. SubMetro</td>\n",
       "      <td>343</td>\n",
       "    </tr>\n",
       "    <tr>\n",
       "      <th>135</th>\n",
       "      <td>South District</td>\n",
       "      <td>Sikkim</td>\n",
       "      <td>5. Snow Clad</td>\n",
       "      <td>243</td>\n",
       "    </tr>\n",
       "    <tr>\n",
       "      <th>136</th>\n",
       "      <td>South Tripura</td>\n",
       "      <td>Tripura</td>\n",
       "      <td>5. Snow Clad</td>\n",
       "      <td>290</td>\n",
       "    </tr>\n",
       "    <tr>\n",
       "      <th>137</th>\n",
       "      <td>Srinagar</td>\n",
       "      <td>Jammu &amp; Kashmir</td>\n",
       "      <td>5. Snow Clad</td>\n",
       "      <td>10</td>\n",
       "    </tr>\n",
       "    <tr>\n",
       "      <th>138</th>\n",
       "      <td>Srinagar</td>\n",
       "      <td>Jammu &amp; Kashmir</td>\n",
       "      <td>3. Capital</td>\n",
       "      <td>10</td>\n",
       "    </tr>\n",
       "    <tr>\n",
       "      <th>139</th>\n",
       "      <td>Sundargarh</td>\n",
       "      <td>Orissa</td>\n",
       "      <td>4. Large City</td>\n",
       "      <td>374</td>\n",
       "    </tr>\n",
       "    <tr>\n",
       "      <th>140</th>\n",
       "      <td>Surat</td>\n",
       "      <td>Gujarat</td>\n",
       "      <td>2. SubMetro</td>\n",
       "      <td>492</td>\n",
       "    </tr>\n",
       "    <tr>\n",
       "      <th>141</th>\n",
       "      <td>Tawang</td>\n",
       "      <td>Arunachal Pradesh</td>\n",
       "      <td>5. Snow Clad</td>\n",
       "      <td>245</td>\n",
       "    </tr>\n",
       "    <tr>\n",
       "      <th>142</th>\n",
       "      <td>Tehri Garhwal</td>\n",
       "      <td>Uttaranchal</td>\n",
       "      <td>5. Snow Clad</td>\n",
       "      <td>59</td>\n",
       "    </tr>\n",
       "    <tr>\n",
       "      <th>143</th>\n",
       "      <td>Thane</td>\n",
       "      <td>Maharashtra</td>\n",
       "      <td>2. SubMetro</td>\n",
       "      <td>517</td>\n",
       "    </tr>\n",
       "    <tr>\n",
       "      <th>144</th>\n",
       "      <td>Thanjavur</td>\n",
       "      <td>Tamil Nadu</td>\n",
       "      <td>4. Large City</td>\n",
       "      <td>620</td>\n",
       "    </tr>\n",
       "    <tr>\n",
       "      <th>145</th>\n",
       "      <td>Thiruvallur</td>\n",
       "      <td>Tamil Nadu</td>\n",
       "      <td>4. Large City</td>\n",
       "      <td>602</td>\n",
       "    </tr>\n",
       "    <tr>\n",
       "      <th>146</th>\n",
       "      <td>Thiruvananthapuram</td>\n",
       "      <td>Kerala</td>\n",
       "      <td>3. Capital</td>\n",
       "      <td>601</td>\n",
       "    </tr>\n",
       "    <tr>\n",
       "      <th>147</th>\n",
       "      <td>Thrissur</td>\n",
       "      <td>Kerala</td>\n",
       "      <td>4. Large City</td>\n",
       "      <td>594</td>\n",
       "    </tr>\n",
       "    <tr>\n",
       "      <th>148</th>\n",
       "      <td>Tiruchirappalli</td>\n",
       "      <td>Tamil Nadu</td>\n",
       "      <td>4. Large City</td>\n",
       "      <td>614</td>\n",
       "    </tr>\n",
       "    <tr>\n",
       "      <th>149</th>\n",
       "      <td>Udaipur</td>\n",
       "      <td>Rajasthan</td>\n",
       "      <td>4. Large City</td>\n",
       "      <td>130</td>\n",
       "    </tr>\n",
       "    <tr>\n",
       "      <th>150</th>\n",
       "      <td>Udhampur</td>\n",
       "      <td>Jammu &amp; Kashmir</td>\n",
       "      <td>5. Snow Clad</td>\n",
       "      <td>19</td>\n",
       "    </tr>\n",
       "    <tr>\n",
       "      <th>151</th>\n",
       "      <td>Uttarkashi</td>\n",
       "      <td>Uttaranchal</td>\n",
       "      <td>5. Snow Clad</td>\n",
       "      <td>56</td>\n",
       "    </tr>\n",
       "    <tr>\n",
       "      <th>152</th>\n",
       "      <td>Vadodara</td>\n",
       "      <td>Gujarat</td>\n",
       "      <td>4. Large City</td>\n",
       "      <td>486</td>\n",
       "    </tr>\n",
       "    <tr>\n",
       "      <th>153</th>\n",
       "      <td>Varanasi</td>\n",
       "      <td>Uttar Pradesh</td>\n",
       "      <td>4. Large City</td>\n",
       "      <td>197</td>\n",
       "    </tr>\n",
       "    <tr>\n",
       "      <th>154</th>\n",
       "      <td>Vellore</td>\n",
       "      <td>Tamil Nadu</td>\n",
       "      <td>4. Large City</td>\n",
       "      <td>605</td>\n",
       "    </tr>\n",
       "    <tr>\n",
       "      <th>155</th>\n",
       "      <td>Visakhapatnam</td>\n",
       "      <td>Andhra Pradesh</td>\n",
       "      <td>2. SubMetro</td>\n",
       "      <td>544</td>\n",
       "    </tr>\n",
       "    <tr>\n",
       "      <th>156</th>\n",
       "      <td>West District</td>\n",
       "      <td>Sikkim</td>\n",
       "      <td>5. Snow Clad</td>\n",
       "      <td>242</td>\n",
       "    </tr>\n",
       "    <tr>\n",
       "      <th>157</th>\n",
       "      <td>West Tripura</td>\n",
       "      <td>Tripura</td>\n",
       "      <td>3. Capital</td>\n",
       "      <td>289</td>\n",
       "    </tr>\n",
       "    <tr>\n",
       "      <th>158</th>\n",
       "      <td>West Tripura</td>\n",
       "      <td>Tripura</td>\n",
       "      <td>5. Snow Clad</td>\n",
       "      <td>289</td>\n",
       "    </tr>\n",
       "    <tr>\n",
       "      <th>159</th>\n",
       "      <td>Purba Medinipur</td>\n",
       "      <td>WEST BENGAL</td>\n",
       "      <td>4. Large City</td>\n",
       "      <td>345</td>\n",
       "    </tr>\n",
       "  </tbody>\n",
       "</table>\n",
       "<p>160 rows × 4 columns</p>\n",
       "</div>"
      ],
      "text/plain": [
       "                       District                      State           Type  \\\n",
       "0                          Agra              Uttar Pradesh  4. Large City   \n",
       "1                     Ahmadabad                    Gujarat       1. Metro   \n",
       "2                        Aizawl                    Mizoram     3. Capital   \n",
       "3                         Ajmer                  Rajasthan  4. Large City   \n",
       "4                    Allahabad               Uttar Pradesh  4. Large City   \n",
       "5                      Almora\\n                Uttaranchal   5. Snow Clad   \n",
       "6                        Ambala                    Haryana  4. Large City   \n",
       "7                     Amritsar                      Punjab  4. Large City   \n",
       "8                     Anantapur             Andhra Pradesh  4. Large City   \n",
       "9                      Anantnag            Jammu & Kashmir   5. Snow Clad   \n",
       "10      North  & Middle Andaman  Andaman & Nicobar Islands     3. Capital   \n",
       "11                    Bageshwar                Uttaranchal   5. Snow Clad   \n",
       "12                    Bangalore                  Karnataka       1. Metro   \n",
       "13                    Bangalore                  Karnataka     3. Capital   \n",
       "14                     Baramula            Jammu & Kashmir   5. Snow Clad   \n",
       "15                  Barddhaman                 West Bengal  4. Large City   \n",
       "16                     Bareilly              Uttar Pradesh  4. Large City   \n",
       "17                     Bathinda                     Punjab  4. Large City   \n",
       "18                      Belgaum                  Karnataka  4. Large City   \n",
       "19                    Bhavnagar                    Gujarat  4. Large City   \n",
       "20                       Bhopal             Madhya Pradesh     3. Capital   \n",
       "21                      Bikaner                  Rajasthan  4. Large City   \n",
       "22                       Bokaro                  Jharkhand  4. Large City   \n",
       "23                       Chamba           Himachal Pradesh   5. Snow Clad   \n",
       "24                      Chamoli                Uttaranchal   5. Snow Clad   \n",
       "25                    Champawat                Uttaranchal   5. Snow Clad   \n",
       "26                   Chandigarh                 Chandigarh    2. SubMetro   \n",
       "27                   Chandigarh                 Chandigarh     3. Capital   \n",
       "28                      Chennai                 Tamil Nadu       1. Metro   \n",
       "29                      Chennai                 Tamil Nadu     3. Capital   \n",
       "..                          ...                        ...            ...   \n",
       "130                      Shimla           Himachal Pradesh     3. Capital   \n",
       "131                     Sirmaur           Himachal Pradesh   5. Snow Clad   \n",
       "132                       Solan           Himachal Pradesh   5. Snow Clad   \n",
       "133                     Solapur                Maharashtra  4. Large City   \n",
       "134  South Twenty Four Parganas                West Bengal    2. SubMetro   \n",
       "135              South District                     Sikkim   5. Snow Clad   \n",
       "136              South Tripura                     Tripura   5. Snow Clad   \n",
       "137                    Srinagar            Jammu & Kashmir   5. Snow Clad   \n",
       "138                    Srinagar            Jammu & Kashmir     3. Capital   \n",
       "139                  Sundargarh                     Orissa  4. Large City   \n",
       "140                       Surat                    Gujarat    2. SubMetro   \n",
       "141                      Tawang          Arunachal Pradesh   5. Snow Clad   \n",
       "142               Tehri Garhwal                Uttaranchal   5. Snow Clad   \n",
       "143                       Thane                Maharashtra    2. SubMetro   \n",
       "144                   Thanjavur                 Tamil Nadu  4. Large City   \n",
       "145                 Thiruvallur                 Tamil Nadu  4. Large City   \n",
       "146          Thiruvananthapuram                     Kerala     3. Capital   \n",
       "147                    Thrissur                     Kerala  4. Large City   \n",
       "148             Tiruchirappalli                 Tamil Nadu  4. Large City   \n",
       "149                     Udaipur                  Rajasthan  4. Large City   \n",
       "150                    Udhampur            Jammu & Kashmir   5. Snow Clad   \n",
       "151                  Uttarkashi                Uttaranchal   5. Snow Clad   \n",
       "152                    Vadodara                    Gujarat  4. Large City   \n",
       "153                    Varanasi              Uttar Pradesh  4. Large City   \n",
       "154                     Vellore                 Tamil Nadu  4. Large City   \n",
       "155               Visakhapatnam             Andhra Pradesh    2. SubMetro   \n",
       "156               West District                     Sikkim   5. Snow Clad   \n",
       "157               West Tripura                     Tripura     3. Capital   \n",
       "158               West Tripura                     Tripura   5. Snow Clad   \n",
       "159             Purba Medinipur                WEST BENGAL  4. Large City   \n",
       "\n",
       "     DistCode  \n",
       "0         146  \n",
       "1         474  \n",
       "2         283  \n",
       "3         119  \n",
       "4         175  \n",
       "5          64  \n",
       "6          70  \n",
       "7          49  \n",
       "8         553  \n",
       "9          14  \n",
       "10        639  \n",
       "11         63  \n",
       "12        572  \n",
       "13        572  \n",
       "14          8  \n",
       "15        335  \n",
       "16        150  \n",
       "17         46  \n",
       "18        555  \n",
       "19        481  \n",
       "20        444  \n",
       "21        101  \n",
       "22        355  \n",
       "23         23  \n",
       "24         57  \n",
       "25         65  \n",
       "26         55  \n",
       "27         55  \n",
       "28        603  \n",
       "29        603  \n",
       "..        ...  \n",
       "130        33  \n",
       "131        32  \n",
       "132        31  \n",
       "133       526  \n",
       "134       343  \n",
       "135       243  \n",
       "136       290  \n",
       "137        10  \n",
       "138        10  \n",
       "139       374  \n",
       "140       492  \n",
       "141       245  \n",
       "142        59  \n",
       "143       517  \n",
       "144       620  \n",
       "145       602  \n",
       "146       601  \n",
       "147       594  \n",
       "148       614  \n",
       "149       130  \n",
       "150        19  \n",
       "151        56  \n",
       "152       486  \n",
       "153       197  \n",
       "154       605  \n",
       "155       544  \n",
       "156       242  \n",
       "157       289  \n",
       "158       289  \n",
       "159       345  \n",
       "\n",
       "[160 rows x 4 columns]"
      ]
     },
     "execution_count": 3,
     "metadata": {},
     "output_type": "execute_result"
    }
   ],
   "source": [
    "df_outliers"
   ]
  },
  {
   "cell_type": "code",
   "execution_count": 4,
   "metadata": {
    "collapsed": true
   },
   "outputs": [],
   "source": [
    "snow_id = df_outliers[df_outliers['Type'] == '5. Snow Clad']['DistCode'].values.tolist()"
   ]
  },
  {
   "cell_type": "code",
   "execution_count": 5,
   "metadata": {
    "collapsed": true
   },
   "outputs": [],
   "source": [
    "metro = df_outliers[df_outliers['Type'] == '1. Metro']['DistCode'].values.tolist()"
   ]
  },
  {
   "cell_type": "code",
   "execution_count": 6,
   "metadata": {
    "collapsed": true
   },
   "outputs": [],
   "source": [
    "### Import Data Files\n",
    "df_satData = pd.read_csv('distSatellite_withLabels.csv')"
   ]
  },
  {
   "cell_type": "code",
   "execution_count": 7,
   "metadata": {
    "collapsed": true
   },
   "outputs": [],
   "source": [
    "df_satData = df_satData[~(df_satData['101'].isin(snow_id+metro))]"
   ]
  },
  {
   "cell_type": "code",
   "execution_count": 8,
   "metadata": {
    "collapsed": true
   },
   "outputs": [],
   "source": [
    "### List of labels\n",
    "lis_labelsAll = ['MSL_1','MSL_2','MSL_3','MSW_1','MSW_2','MSW_3','CHH_1','CHH_2','CHH_3','FC_1','FC_2','FC_3','BF_1','BF_2','BF_3','EMP_1','EMP_2','EMP_3']\n",
    "\n",
    "### List of useful Labels\n",
    "lis_labels= ['EMP_1','EMP_2','EMP_3']"
   ]
  },
  {
   "cell_type": "code",
   "execution_count": 9,
   "metadata": {},
   "outputs": [
    {
     "data": {
      "text/html": [
       "<div>\n",
       "<style>\n",
       "    .dataframe thead tr:only-child th {\n",
       "        text-align: right;\n",
       "    }\n",
       "\n",
       "    .dataframe thead th {\n",
       "        text-align: left;\n",
       "    }\n",
       "\n",
       "    .dataframe tbody tr th {\n",
       "        vertical-align: top;\n",
       "    }\n",
       "</style>\n",
       "<table border=\"1\" class=\"dataframe\">\n",
       "  <thead>\n",
       "    <tr style=\"text-align: right;\">\n",
       "      <th></th>\n",
       "      <th>DISTRICT</th>\n",
       "      <th>101</th>\n",
       "      <th>DN_00</th>\n",
       "      <th>DN_01</th>\n",
       "      <th>DN_02</th>\n",
       "      <th>DN_03</th>\n",
       "      <th>DN_04</th>\n",
       "      <th>DN_05</th>\n",
       "      <th>DN_06</th>\n",
       "      <th>DN_07</th>\n",
       "      <th>...</th>\n",
       "      <th>CHH_3</th>\n",
       "      <th>FC_1</th>\n",
       "      <th>FC_2</th>\n",
       "      <th>FC_3</th>\n",
       "      <th>BF_1</th>\n",
       "      <th>BF_2</th>\n",
       "      <th>BF_3</th>\n",
       "      <th>EMP_1</th>\n",
       "      <th>EMP_2</th>\n",
       "      <th>EMP_3</th>\n",
       "    </tr>\n",
       "  </thead>\n",
       "  <tbody>\n",
       "    <tr>\n",
       "      <th>0</th>\n",
       "      <td>Adilabad</td>\n",
       "      <td>532</td>\n",
       "      <td>5237.12</td>\n",
       "      <td>0</td>\n",
       "      <td>0</td>\n",
       "      <td>0.76</td>\n",
       "      <td>1815.67</td>\n",
       "      <td>3332.38</td>\n",
       "      <td>2043.90</td>\n",
       "      <td>1049.05</td>\n",
       "      <td>...</td>\n",
       "      <td>0</td>\n",
       "      <td>1</td>\n",
       "      <td>0</td>\n",
       "      <td>0</td>\n",
       "      <td>1</td>\n",
       "      <td>0</td>\n",
       "      <td>0</td>\n",
       "      <td>0</td>\n",
       "      <td>1</td>\n",
       "      <td>0</td>\n",
       "    </tr>\n",
       "    <tr>\n",
       "      <th>1</th>\n",
       "      <td>Agra</td>\n",
       "      <td>146</td>\n",
       "      <td>401.66</td>\n",
       "      <td>0</td>\n",
       "      <td>0</td>\n",
       "      <td>0.00</td>\n",
       "      <td>48.54</td>\n",
       "      <td>451.36</td>\n",
       "      <td>620.77</td>\n",
       "      <td>441.57</td>\n",
       "      <td>...</td>\n",
       "      <td>0</td>\n",
       "      <td>0</td>\n",
       "      <td>0</td>\n",
       "      <td>1</td>\n",
       "      <td>0</td>\n",
       "      <td>0</td>\n",
       "      <td>1</td>\n",
       "      <td>1</td>\n",
       "      <td>0</td>\n",
       "      <td>0</td>\n",
       "    </tr>\n",
       "    <tr>\n",
       "      <th>3</th>\n",
       "      <td>Ahmadnagar</td>\n",
       "      <td>522</td>\n",
       "      <td>984.52</td>\n",
       "      <td>0</td>\n",
       "      <td>0</td>\n",
       "      <td>3.12</td>\n",
       "      <td>1756.19</td>\n",
       "      <td>3855.19</td>\n",
       "      <td>2683.53</td>\n",
       "      <td>1989.69</td>\n",
       "      <td>...</td>\n",
       "      <td>0</td>\n",
       "      <td>1</td>\n",
       "      <td>0</td>\n",
       "      <td>0</td>\n",
       "      <td>1</td>\n",
       "      <td>0</td>\n",
       "      <td>0</td>\n",
       "      <td>0</td>\n",
       "      <td>1</td>\n",
       "      <td>0</td>\n",
       "    </tr>\n",
       "    <tr>\n",
       "      <th>4</th>\n",
       "      <td>Aizawl</td>\n",
       "      <td>283</td>\n",
       "      <td>3412.59</td>\n",
       "      <td>0</td>\n",
       "      <td>0</td>\n",
       "      <td>0.00</td>\n",
       "      <td>49.31</td>\n",
       "      <td>102.02</td>\n",
       "      <td>42.99</td>\n",
       "      <td>27.32</td>\n",
       "      <td>...</td>\n",
       "      <td>0</td>\n",
       "      <td>0</td>\n",
       "      <td>0</td>\n",
       "      <td>1</td>\n",
       "      <td>0</td>\n",
       "      <td>0</td>\n",
       "      <td>1</td>\n",
       "      <td>0</td>\n",
       "      <td>0</td>\n",
       "      <td>1</td>\n",
       "    </tr>\n",
       "    <tr>\n",
       "      <th>5</th>\n",
       "      <td>Ajmer</td>\n",
       "      <td>119</td>\n",
       "      <td>3903.05</td>\n",
       "      <td>0</td>\n",
       "      <td>0</td>\n",
       "      <td>1.61</td>\n",
       "      <td>386.31</td>\n",
       "      <td>1286.76</td>\n",
       "      <td>648.55</td>\n",
       "      <td>490.42</td>\n",
       "      <td>...</td>\n",
       "      <td>0</td>\n",
       "      <td>0</td>\n",
       "      <td>0</td>\n",
       "      <td>1</td>\n",
       "      <td>0</td>\n",
       "      <td>0</td>\n",
       "      <td>1</td>\n",
       "      <td>0</td>\n",
       "      <td>0</td>\n",
       "      <td>1</td>\n",
       "    </tr>\n",
       "  </tbody>\n",
       "</table>\n",
       "<p>5 rows × 103 columns</p>\n",
       "</div>"
      ],
      "text/plain": [
       "     DISTRICT  101    DN_00  DN_01  DN_02  DN_03    DN_04    DN_05    DN_06  \\\n",
       "0    Adilabad  532  5237.12      0      0   0.76  1815.67  3332.38  2043.90   \n",
       "1        Agra  146   401.66      0      0   0.00    48.54   451.36   620.77   \n",
       "3  Ahmadnagar  522   984.52      0      0   3.12  1756.19  3855.19  2683.53   \n",
       "4      Aizawl  283  3412.59      0      0   0.00    49.31   102.02    42.99   \n",
       "5       Ajmer  119  3903.05      0      0   1.61   386.31  1286.76   648.55   \n",
       "\n",
       "     DN_07  ...    CHH_3  FC_1  FC_2  FC_3  BF_1  BF_2  BF_3  EMP_1  EMP_2  \\\n",
       "0  1049.05  ...        0     1     0     0     1     0     0      0      1   \n",
       "1   441.57  ...        0     0     0     1     0     0     1      1      0   \n",
       "3  1989.69  ...        0     1     0     0     1     0     0      0      1   \n",
       "4    27.32  ...        0     0     0     1     0     0     1      0      0   \n",
       "5   490.42  ...        0     0     0     1     0     0     1      0      0   \n",
       "\n",
       "   EMP_3  \n",
       "0      0  \n",
       "1      0  \n",
       "3      0  \n",
       "4      1  \n",
       "5      1  \n",
       "\n",
       "[5 rows x 103 columns]"
      ]
     },
     "execution_count": 9,
     "metadata": {},
     "output_type": "execute_result"
    }
   ],
   "source": [
    "df_satData.head()"
   ]
  },
  {
   "cell_type": "code",
   "execution_count": 10,
   "metadata": {},
   "outputs": [
    {
     "data": {
      "text/plain": [
       "(592, 103)"
      ]
     },
     "execution_count": 10,
     "metadata": {},
     "output_type": "execute_result"
    }
   ],
   "source": [
    "df_satData.shape"
   ]
  },
  {
   "cell_type": "markdown",
   "metadata": {
    "collapsed": true
   },
   "source": [
    "## Building features from night light data"
   ]
  },
  {
   "cell_type": "code",
   "execution_count": 11,
   "metadata": {
    "collapsed": true
   },
   "outputs": [],
   "source": [
    "var = []\n",
    "for i in range(64):\n",
    "    var.append('DN_' + str(i).zfill(2))\n",
    "\n",
    "df_satData['Area'] = 0\n",
    "for i in var:\n",
    "    df_satData['Area']=df_satData['Area'] + df_satData[i]\n",
    "df_satData['Area'] = df_satData['Area'].replace(0,1)\n",
    "\n",
    "for i in var:\n",
    "    df_satData['p'+i] = (df_satData[i])/(df_satData['Area']*1.0)\n",
    "\n",
    "for i,j in enumerate(var):\n",
    "    df_satData['q'+j] = df_satData[j]*(i+1)\n",
    "\n",
    "var3 = []\n",
    "for i in var:\n",
    "    var3.append('p'+i)\n",
    "for i in var:\n",
    "    var3.append('q'+i)"
   ]
  },
  {
   "cell_type": "markdown",
   "metadata": {},
   "source": [
    "## Appling Pca to matrix formed from features of nightlight data"
   ]
  },
  {
   "cell_type": "code",
   "execution_count": 12,
   "metadata": {
    "collapsed": true
   },
   "outputs": [],
   "source": [
    "X = df_satData.loc[:,var3].values"
   ]
  },
  {
   "cell_type": "code",
   "execution_count": 13,
   "metadata": {
    "collapsed": true
   },
   "outputs": [
    {
     "name": "stdout",
     "output_type": "stream",
     "text": [
      "[ 42.48  59.5   67.93  72.41  75.87  78.24  80.5   82.58  84.22  85.56\n",
      "  86.81  87.91  88.78  89.56  90.26  90.84  91.33  91.81  92.22  92.61\n",
      "  92.97  93.31  93.63  93.92  94.19  94.45  94.69  94.91  95.13  95.33\n",
      "  95.53  95.72  95.9   96.08  96.25  96.42  96.58  96.74  96.88  97.02\n",
      "  97.15  97.28  97.41  97.53  97.65  97.76  97.87  97.98  98.08  98.18\n",
      "  98.28  98.37  98.46  98.54  98.62  98.69  98.76  98.83  98.9   98.97\n",
      "  99.03  99.09  99.15  99.21  99.26  99.31  99.36  99.4   99.44  99.48\n",
      "  99.52  99.55  99.58  99.61  99.64  99.67  99.69  99.71  99.73  99.75\n",
      "  99.77  99.78  99.79  99.8   99.81  99.82  99.83  99.84  99.85  99.86\n",
      "  99.87  99.88  99.89  99.9   99.91  99.92  99.93  99.94  99.95  99.95\n",
      "  99.95  99.95  99.95  99.95  99.95  99.95  99.95  99.95  99.95  99.95\n",
      "  99.95  99.95  99.95  99.95  99.95  99.95  99.95  99.95  99.95  99.95\n",
      "  99.95  99.95  99.95  99.95  99.95  99.95  99.95  99.95]\n",
      "('n: 95% Variance: ', 10)\n"
     ]
    }
   ],
   "source": [
    "X = preprocessing.scale(X)\n",
    "pca = PCA()\n",
    "pca.fit(X)\n",
    "\n",
    "#pca= PCA(svd_solver='full')\n",
    "#pca.fit(X, y=None )\n",
    "\n",
    "#The amount of variance that each PC explains\n",
    "var= pca.explained_variance_ratio_\n",
    "\n",
    "#Cumulative Variance explains\n",
    "var1=np.cumsum(np.round(pca.explained_variance_ratio_, decimals=4)*100)\n",
    "print(var1)\n",
    "\n",
    "#Number of PC comprising 95%Variance\n",
    "n = len(var1)-len([num for num in var1 if num != 0 and num > 85.0])+1\n",
    "print( \"n: 95% Variance: \",n)"
   ]
  },
  {
   "cell_type": "code",
   "execution_count": 14,
   "metadata": {
    "collapsed": true
   },
   "outputs": [],
   "source": [
    "### PCA fit\n",
    "X=pca.fit_transform(X)\n",
    "X=X[:,0:n]"
   ]
  },
  {
   "cell_type": "code",
   "execution_count": 15,
   "metadata": {},
   "outputs": [
    {
     "data": {
      "text/plain": [
       "10"
      ]
     },
     "execution_count": 15,
     "metadata": {},
     "output_type": "execute_result"
    }
   ],
   "source": [
    "n"
   ]
  },
  {
   "cell_type": "code",
   "execution_count": null,
   "metadata": {
    "collapsed": true
   },
   "outputs": [],
   "source": []
  },
  {
   "cell_type": "code",
   "execution_count": 24,
   "metadata": {
    "collapsed": true
   },
   "outputs": [],
   "source": [
    "## creating variance table "
   ]
  },
  {
   "cell_type": "code",
   "execution_count": 16,
   "metadata": {
    "collapsed": true
   },
   "outputs": [],
   "source": [
    "df_pcaComp = pd.DataFrame(pca.components_)"
   ]
  },
  {
   "cell_type": "code",
   "execution_count": 17,
   "metadata": {
    "collapsed": true
   },
   "outputs": [],
   "source": [
    "pca_idx = ['PCA_'+str(i) for i in range(len(df_pcaComp))]"
   ]
  },
  {
   "cell_type": "code",
   "execution_count": 18,
   "metadata": {
    "collapsed": true
   },
   "outputs": [],
   "source": [
    "df_pcaComp.index = pca_idx"
   ]
  },
  {
   "cell_type": "code",
   "execution_count": 19,
   "metadata": {
    "collapsed": true
   },
   "outputs": [],
   "source": [
    "df_pcaComp.columns = var3"
   ]
  },
  {
   "cell_type": "code",
   "execution_count": 20,
   "metadata": {
    "collapsed": true
   },
   "outputs": [],
   "source": [
    "temp2 = []\n",
    "for i in range(n):\n",
    "    temp = df_pcaComp[i:i+1]\n",
    "    temp_sorted = temp.sort_values(by=pca_idx[i],axis=1)\n",
    "    cols = temp_sorted.columns.tolist()\n",
    "    #temp_sorted[cols[:3]+cols[-3:]]\n",
    "    temp3 = temp_sorted[cols[:3]+cols[-3:]]\n",
    "    temp2.append(temp3.columns.tolist())\n",
    "    temp2.append(temp3.values.tolist()[0])\n",
    "    temp2.append([float('NaN')]*6)\n",
    "    df_temp2 = pd.DataFrame(temp2)"
   ]
  },
  {
   "cell_type": "code",
   "execution_count": null,
   "metadata": {
    "collapsed": true
   },
   "outputs": [],
   "source": [
    "df_temp2.to_csv('variance_table.csv')"
   ]
  },
  {
   "cell_type": "code",
   "execution_count": null,
   "metadata": {
    "collapsed": true
   },
   "outputs": [],
   "source": []
  },
  {
   "cell_type": "code",
   "execution_count": null,
   "metadata": {
    "collapsed": true
   },
   "outputs": [],
   "source": []
  },
  {
   "cell_type": "code",
   "execution_count": 22,
   "metadata": {
    "collapsed": true
   },
   "outputs": [],
   "source": [
    "### Creating Dataframe of PCA\n",
    "col_X = []\n",
    "for j in range(n):\n",
    "    col_X.append('PCA_'+str(j))\n",
    "df_pcaNTL = pd.DataFrame(X,columns=col_X)"
   ]
  },
  {
   "cell_type": "code",
   "execution_count": null,
   "metadata": {
    "collapsed": true
   },
   "outputs": [],
   "source": [
    "df_pcaNTL['101'] = df_satData['101'].values.tolist()"
   ]
  },
  {
   "cell_type": "code",
   "execution_count": null,
   "metadata": {},
   "outputs": [],
   "source": [
    "df_pcaNTL.head()"
   ]
  },
  {
   "cell_type": "markdown",
   "metadata": {},
   "source": [
    "## Building features out of Modis Data"
   ]
  },
  {
   "cell_type": "code",
   "execution_count": null,
   "metadata": {
    "collapsed": true
   },
   "outputs": [],
   "source": [
    "df_satData['Urban and built-up']=df_satData['Urban and built-up']+1\n",
    "df_satData['CropRatio']=(df_satData['Croplands']+df_satData['Cropland/Natural vegetation mosaic'])/df_satData['Area']\n",
    "df_satData['AvgUrbanNTL']=df_satData['sum']/df_satData['Urban and built-up']\n",
    "df_satData['UrbanRatio']= df_satData['Urban and built-up']/df_satData['Area']\n",
    "\n",
    "df_satData['Natural']= 0\n",
    "for i in ['Water','Evergreen Needleleaf forest','Evergreen Broadleaf forest','Deciduous Needleleaf forest','Deciduous Broadleaf forest','Mixed forest','Closed shrublands','Open shrublands','Woody savannas','Savannas','Grasslands','Permanent wetlands','Snow and ice']:\n",
    "    df_satData['Natural']=df_satData['Natural']+df_satData[i]\n",
    "    \n",
    "df_satData['CropRemainRatio']=(df_satData['Croplands']+df_satData['Cropland/Natural vegetation mosaic'])/(df_satData['Area']-df_satData['Natural'])\n",
    "df_satData['UrbanRemainRatio']=df_satData['Urban and built-up']/(df_satData['Area']-df_satData['Natural'])\n",
    "#df_satData['UrbanRatio']=df_satData['UrbanRatio'].fillna(0)\n",
    "\n",
    "\n",
    "forest =['Evergreen Broadleaf forest','Deciduous Broadleaf forest','Mixed forest']\n",
    "df_satData['forest'] = df_satData[forest].sum(axis=1)\n",
    "\n",
    "grass_shrubs =['Closed shrublands','Open shrublands','Woody savannas','Savannas','Grasslands']\n",
    "df_satData['grass_shrubs'] = df_satData[grass_shrubs].sum(axis=1)"
   ]
  },
  {
   "cell_type": "code",
   "execution_count": null,
   "metadata": {
    "collapsed": true
   },
   "outputs": [],
   "source": [
    "modi_var = []\n",
    "modi_var=['mean','sum','CropRatio', 'AvgUrbanNTL', 'UrbanRatio', 'CropRemainRatio', 'UrbanRemainRatio','Natural']\n",
    "for i in ['Croplands',\n",
    " 'Urban and built-up',\n",
    " 'Cropland/Natural vegetation mosaic',\n",
    " 'forest',\n",
    " 'grass_shrubs']:\n",
    "    df_satData['mod_'+i]=df_satData[i]/df_satData['Area']\n",
    "    modi_var.append('mod_'+i)\n",
    "    modi_var.append(i)"
   ]
  },
  {
   "cell_type": "markdown",
   "metadata": {},
   "source": [
    "## final dataframe from pca version of nl and modi "
   ]
  },
  {
   "cell_type": "code",
   "execution_count": null,
   "metadata": {
    "collapsed": true
   },
   "outputs": [],
   "source": [
    "df_modi_nlPca =  pd.merge(df_satData[['101']+modi_var],df_pcaNTL,left_on='101',right_on='101',how='inner')"
   ]
  },
  {
   "cell_type": "code",
   "execution_count": null,
   "metadata": {
    "scrolled": true
   },
   "outputs": [],
   "source": [
    "df_modi_nlPca.shape"
   ]
  },
  {
   "cell_type": "code",
   "execution_count": null,
   "metadata": {
    "collapsed": true
   },
   "outputs": [],
   "source": [
    "var = df_modi_nlPca.columns.tolist()[1:]"
   ]
  },
  {
   "cell_type": "markdown",
   "metadata": {},
   "source": [
    "## finding feature ranking for a particular label"
   ]
  },
  {
   "cell_type": "code",
   "execution_count": null,
   "metadata": {
    "collapsed": true
   },
   "outputs": [],
   "source": [
    "def featureRank(label):\n",
    "    model = LogisticRegression()\n",
    "    selector = RFE(model,1, step=1)\n",
    "\n",
    "    X = df_modi_nlPca[var].values\n",
    "    X = preprocessing.scale(X)\n",
    "\n",
    "    y = df_satData.loc[:,label].values\n",
    "\n",
    "    selector.fit(X,y)\n",
    "\n",
    "    selectedIdx = selector.get_support(indices=True)\n",
    "\n",
    "    featureRanking = selector.ranking_\n",
    "\n",
    "    ranked_var = pd.DataFrame(featureRanking,var)\n",
    "    ranked_var = ranked_var.reset_index()\n",
    "    ranked_var.columns = (['var','rank'])\n",
    "    ranked_var = ranked_var.sort_values('rank')\n",
    "    ranked_var.reset_index(inplace=True)\n",
    "    del ranked_var['index']\n",
    "    \n",
    "    return ranked_var"
   ]
  },
  {
   "cell_type": "markdown",
   "metadata": {},
   "source": [
    "## selecting features to maximize f1_score\n",
    "#### Assumption: Set of first n features in feature ranking will produce maximum f1_score compared to any other set of n features."
   ]
  },
  {
   "cell_type": "code",
   "execution_count": null,
   "metadata": {
    "collapsed": true
   },
   "outputs": [],
   "source": [
    "def selectFeatures(ranked_var,label):\n",
    "    metric_list = list()\n",
    "    f1_list = list()\n",
    "    for i in range(len(ranked_var)):\n",
    "        var2 = ranked_var.loc[:i,'var'].values.tolist()\n",
    "\n",
    "        X = df_modi_nlPca.loc[:,var2].values\n",
    "        y = df_satData.loc[:,label].values\n",
    "\n",
    "        model = LogisticRegression(class_weight='balanced')\n",
    "        clf = make_pipeline(preprocessing.StandardScaler(),model)\n",
    "        predicted = cross_validation.cross_val_predict(clf,X,y, cv=5)\n",
    "\n",
    "        acc = metrics.accuracy_score(y,predicted)\n",
    "        recall = metrics.recall_score(y,predicted)\n",
    "        prec =  metrics.precision_score(y,predicted)\n",
    "\n",
    "        cm = metrics.confusion_matrix(y, predicted)\n",
    "        cm_score = float(cm[1][1])/(cm[1][1]+cm[1][0]+cm[0][1])\n",
    "\n",
    "        f1 = metrics.f1_score(y,predicted)\n",
    "\n",
    "        metric_list.append([f1,cm_score,acc,recall,prec])\n",
    "        f1_list.append(f1)\n",
    "\n",
    "    df_metric = pd.DataFrame(metric_list)\n",
    "    df_metric.columns =  (['f1','cm','acc','recall','prec'])\n",
    "\n",
    "    ## finding the global maximum index in f1_list\n",
    "    global_maxima = f1_list.index(max(f1_list))\n",
    "\n",
    "    ## plotting f1_score with features selected\n",
    "    #figure()\n",
    "    #plt.grid()\n",
    "    #plt.plot(f1_list)\n",
    "    #plt.title(label)\n",
    "    #plt.xlabel('number of variables')\n",
    "    #plt.ylabel('f1_score')\n",
    "    \n",
    "    ## findi  ng indexes of all local maximums\n",
    "\n",
    "    x = array(f1_list)\n",
    "    # for local maxima\n",
    "    local_maxima = argrelextrema(x, np.greater)[0].tolist()\n",
    "\n",
    "    f1_acceptable = f1_list[global_maxima]-0.01\n",
    "\n",
    "    i = 0\n",
    "    while f1_list[i] < f1_acceptable:\n",
    "        i += 1\n",
    "\n",
    "    var_final = ranked_var.loc[:i,'var']\n",
    "\n",
    "    X = df_modi_nlPca.loc[:,var_final].values\n",
    "    y = df_satData.loc[:,label].values\n",
    "\n",
    "    model = LogisticRegression()\n",
    "\n",
    "    fit = model.fit(X,y)\n",
    "\n",
    "    df_selecedVar = ranked_var.loc[:i].copy(deep=True)\n",
    "    df_selecedVar.insert(2,'coeff',fit.coef_[0])\n",
    "\n",
    "    return [df_selecedVar,f1_list[i],df_metric[i:i+1]]"
   ]
  },
  {
   "cell_type": "code",
   "execution_count": null,
   "metadata": {},
   "outputs": [],
   "source": [
    "select_feature = []\n",
    "score_metric = []\n",
    "for label in lis_labelsAll:\n",
    "    ranked_var = featureRank(label)\n",
    "    feature_and_score = selectFeatures(ranked_var,label)\n",
    "    select_feature.append(feature_and_score)\n",
    "    score_metric.append(feature_and_score[2].values[0])"
   ]
  },
  {
   "cell_type": "code",
   "execution_count": null,
   "metadata": {
    "collapsed": true
   },
   "outputs": [],
   "source": [
    "df_scoreMetric = pd.DataFrame(score_metric,columns = ['f1','cm','acc','recall','prec'], index=lis_labelsAll)"
   ]
  },
  {
   "cell_type": "code",
   "execution_count": null,
   "metadata": {
    "collapsed": true
   },
   "outputs": [],
   "source": [
    "df_scoreMetric.to_csv('scoreMetric_pcaModi.csv')"
   ]
  },
  {
   "cell_type": "code",
   "execution_count": null,
   "metadata": {},
   "outputs": [],
   "source": [
    "df_scoreMetric.sort_values(by='f1',ascending=False)"
   ]
  },
  {
   "cell_type": "code",
   "execution_count": null,
   "metadata": {
    "scrolled": false
   },
   "outputs": [],
   "source": [
    "select_feature[0][0]"
   ]
  },
  {
   "cell_type": "code",
   "execution_count": null,
   "metadata": {
    "collapsed": true
   },
   "outputs": [],
   "source": []
  },
  {
   "cell_type": "code",
   "execution_count": null,
   "metadata": {
    "collapsed": true
   },
   "outputs": [],
   "source": []
  },
  {
   "cell_type": "code",
   "execution_count": null,
   "metadata": {
    "collapsed": true
   },
   "outputs": [],
   "source": [
    "## adding pvalues.... to the list of featues."
   ]
  },
  {
   "cell_type": "code",
   "execution_count": null,
   "metadata": {
    "collapsed": true
   },
   "outputs": [],
   "source": [
    "X = df_modi_nlPca.copy(deep=True)\n",
    "X.insert(1,'intercept',1.0)\n",
    "cols = X.columns.tolist()"
   ]
  },
  {
   "cell_type": "code",
   "execution_count": null,
   "metadata": {
    "collapsed": true
   },
   "outputs": [],
   "source": [
    "modi_cols = cols[1:cols.index('PCA_0')]\n",
    "pca_cols = ['intercept'] + cols[cols.index('PCA_0'):]"
   ]
  },
  {
   "cell_type": "code",
   "execution_count": null,
   "metadata": {
    "collapsed": true
   },
   "outputs": [],
   "source": [
    "def find_summary(cols,label):\n",
    "    X1 = X[cols].values\n",
    "    y = df_satData.loc[:,label].values\n",
    "\n",
    "    model = sm.Logit(y,X1)\n",
    "    result = model.fit()\n",
    "    summary = result.summary()\n",
    "\n",
    "    df_summary = pd.DataFrame(result.params,result.pvalues)\n",
    "    df_summary.reset_index(inplace=True)\n",
    "    df_summary.index = cols\n",
    "    df_summary.columns = ['pvals','param']\n",
    "    \n",
    "    return df_summary"
   ]
  },
  {
   "cell_type": "code",
   "execution_count": null,
   "metadata": {
    "collapsed": true
   },
   "outputs": [],
   "source": [
    "selectedFeatures_pval = []\n",
    "for i,label in enumerate(lis_labelsAll):\n",
    "    df_temp = select_feature[i][0].copy(deep=True)\n",
    "    df_temp.index = df_temp['var']\n",
    "    del df_temp['var']\n",
    "    df_summary = pd.concat([find_summary(modi_cols,label),find_summary(pca_cols,label)])\n",
    "    df_temp2 = pd.concat([df_temp,df_summary],axis=1,join_axes=[df_temp.index])\n",
    "    selectedFeatures_pval.append(df_temp2)"
   ]
  },
  {
   "cell_type": "code",
   "execution_count": null,
   "metadata": {},
   "outputs": [],
   "source": [
    "label = 'BF_1'\n",
    "selectedFeatures_pval[lis_labelsAll.index(label)]"
   ]
  },
  {
   "cell_type": "code",
   "execution_count": null,
   "metadata": {
    "collapsed": true
   },
   "outputs": [],
   "source": []
  },
  {
   "cell_type": "code",
   "execution_count": null,
   "metadata": {
    "collapsed": true
   },
   "outputs": [],
   "source": []
  }
 ],
 "metadata": {
  "anaconda-cloud": {},
  "kernelspec": {
   "display_name": "Python 2",
   "language": "python",
   "name": "python2"
  },
  "language_info": {
   "codemirror_mode": {
    "name": "ipython",
    "version": 2
   },
   "file_extension": ".py",
   "mimetype": "text/x-python",
   "name": "python",
   "nbconvert_exporter": "python",
   "pygments_lexer": "ipython2",
   "version": "2.7.14"
  }
 },
 "nbformat": 4,
 "nbformat_minor": 2
}
