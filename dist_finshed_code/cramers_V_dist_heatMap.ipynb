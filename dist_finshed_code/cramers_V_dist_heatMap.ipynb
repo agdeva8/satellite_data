{
 "cells": [
  {
   "cell_type": "code",
   "execution_count": 29,
   "metadata": {
    "collapsed": true
   },
   "outputs": [],
   "source": [
    "import pandas as pd \n",
    "\n",
    "import numpy as np\n",
    "\n",
    "import scipy.stats as stats\n",
    "\n",
    "import math"
   ]
  },
  {
   "cell_type": "code",
   "execution_count": 30,
   "metadata": {
    "collapsed": true
   },
   "outputs": [],
   "source": [
    "from string import ascii_letters\n",
    "import numpy as np\n",
    "import pandas as pd\n",
    "import seaborn as sns\n",
    "import matplotlib.pyplot as plt"
   ]
  },
  {
   "cell_type": "code",
   "execution_count": 31,
   "metadata": {
    "collapsed": true
   },
   "outputs": [],
   "source": [
    "dist = pd.read_csv(\"Dist.csv\")"
   ]
  },
  {
   "cell_type": "code",
   "execution_count": 32,
   "metadata": {
    "collapsed": true
   },
   "outputs": [],
   "source": [
    "### a function to calculate crammer V and carmmer V with bias variance\n",
    "def crammer(cri1,cri2):\n",
    "    ## cri stands for criterian \n",
    "    ## getting all the labels\n",
    "    cri2_labels = cri2.unique()\n",
    "\n",
    "    cri1_labels = cri1.unique()\n",
    "\n",
    "    k = cri1_labels.size\n",
    "    r = cri2_labels.size\n",
    "\n",
    "    ##creating contigency table  of criterion_1 x criterion_2\n",
    "    contingency_table =  np.zeros((k,r))\n",
    "\n",
    "    for i in range(cri1.size):\n",
    "        r_i = list(cri1_labels).index(cri1[i])\n",
    "        c_i = list(cri2_labels).index(cri2[i])\n",
    "        contingency_table[r_i][c_i] = contingency_table[r_i][c_i] + 1\n",
    "\n",
    "    n = contingency_table.sum()\n",
    "\n",
    "    ## finding the chi square value \n",
    "    chi2_all = stats.chi2_contingency(contingency_table, correction=True, lambda_=None)\n",
    "\n",
    "    chi2_val = chi2_all[0]\n",
    "\n",
    "    phi2 = chi2_val/n\n",
    "\n",
    "    ## finding the cramers V value\n",
    "    V = math.sqrt(phi2/(min(k-1,r-1)*1.0))\n",
    "\n",
    "    k_tid = k - math.pow(k-1,2)/(n-1)\n",
    "\n",
    "    r_tid = r - math.pow(r-1,2)/(n-1)\n",
    "\n",
    "    phi2_tid = max(0, phi2-(k-1)*(r-1)/(n-1))\n",
    "\n",
    "    ## finding the crammers with bias correction\n",
    "\n",
    "    V_tid = math.sqrt( phi2_tid/(min(k_tid-1,r_tid-1)))\n",
    "    \n",
    "    return [chi2_val,V,V_tid ]"
   ]
  },
  {
   "cell_type": "code",
   "execution_count": 33,
   "metadata": {
    "collapsed": true
   },
   "outputs": [],
   "source": [
    "cri = ['District_HHD_Cluster_MSL',\n",
    " 'District_HHD_Cluster_MSW',\n",
    " 'District_HHD_Cluster_CHH',\n",
    " 'District_HHD_Cluster_FC',\n",
    " 'District_HHD_Cluster_BF',\n",
    " 'District_HHD_Cluster_EMP']"
   ]
  },
  {
   "cell_type": "code",
   "execution_count": 34,
   "metadata": {},
   "outputs": [],
   "source": [
    "result = np.zeros((len(cri),len(cri)))\n",
    "for i in range(len(cri)):\n",
    "    for j in range(i+1,len(cri)):\n",
    "        result_temp = crammer(dist[cri[i]],dist[cri[j]])\n",
    "        result[j][i]=result_temp[1]"
   ]
  },
  {
   "cell_type": "code",
   "execution_count": 35,
   "metadata": {
    "scrolled": true
   },
   "outputs": [
    {
     "name": "stdout",
     "output_type": "stream",
     "text": [
      "Using matplotlib backend: Qt4Agg\n",
      "Populating the interactive namespace from numpy and matplotlib\n"
     ]
    }
   ],
   "source": [
    "%pylab"
   ]
  },
  {
   "cell_type": "code",
   "execution_count": 36,
   "metadata": {
    "collapsed": true
   },
   "outputs": [],
   "source": [
    "corr = result"
   ]
  },
  {
   "cell_type": "code",
   "execution_count": 37,
   "metadata": {},
   "outputs": [],
   "source": [
    "mask = np.zeros_like(corr, dtype=np.bool)"
   ]
  },
  {
   "cell_type": "code",
   "execution_count": 38,
   "metadata": {
    "collapsed": true
   },
   "outputs": [],
   "source": [
    "mask[np.triu_indices_from(mask)] = True"
   ]
  },
  {
   "cell_type": "code",
   "execution_count": 40,
   "metadata": {
    "collapsed": true
   },
   "outputs": [],
   "source": [
    "# Generate a custom diverging colormap\n",
    "cmap = sns.diverging_palette(220, 10, as_cmap=True)\n",
    "\n",
    "# Draw the heatmap with the mask and correct aspect ratio\n",
    "sns.heatmap(corr, mask=mask, cmap=cmap, vmax=.3, center=0,annot=True,\n",
    "            square=True, linewidths=.01, cbar_kws={\"shrink\": 0.4},fmt=\".2f\")\n",
    "plt.show()"
   ]
  },
  {
   "cell_type": "code",
   "execution_count": null,
   "metadata": {
    "collapsed": true
   },
   "outputs": [],
   "source": []
  }
 ],
 "metadata": {
  "kernelspec": {
   "display_name": "Python 2",
   "language": "python",
   "name": "python2"
  },
  "language_info": {
   "codemirror_mode": {
    "name": "ipython",
    "version": 2
   },
   "file_extension": ".py",
   "mimetype": "text/x-python",
   "name": "python",
   "nbconvert_exporter": "python",
   "pygments_lexer": "ipython2",
   "version": "2.7.14"
  }
 },
 "nbformat": 4,
 "nbformat_minor": 2
}
