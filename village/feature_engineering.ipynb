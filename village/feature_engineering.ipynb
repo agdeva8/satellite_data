{
 "cells": [
  {
   "cell_type": "code",
   "execution_count": 1,
   "metadata": {},
   "outputs": [
    {
     "name": "stderr",
     "output_type": "stream",
     "text": [
      "/home/deva/anaconda2/lib/python2.7/site-packages/sklearn/cross_validation.py:41: DeprecationWarning: This module was deprecated in version 0.18 in favor of the model_selection module into which all the refactored classes and functions are moved. Also note that the interface of the new CV iterators are different from that of this module. This module will be removed in 0.20.\n",
      "  \"This module will be removed in 0.20.\", DeprecationWarning)\n"
     ]
    }
   ],
   "source": [
    "import pandas as pd\n",
    "import numpy as np\n",
    "import xgboost as xgb\n",
    "from sklearn import metrics\n",
    "from sklearn import cross_validation"
   ]
  },
  {
   "cell_type": "code",
   "execution_count": 2,
   "metadata": {
    "collapsed": true
   },
   "outputs": [],
   "source": [
    "import matplotlib.pyplot as plt"
   ]
  },
  {
   "cell_type": "code",
   "execution_count": 3,
   "metadata": {},
   "outputs": [
    {
     "name": "stderr",
     "output_type": "stream",
     "text": [
      "/home/deva/anaconda2/lib/python2.7/site-packages/ggplot/utils.py:81: FutureWarning: pandas.tslib is deprecated and will be removed in a future version.\n",
      "You can access Timestamp as pandas.Timestamp\n",
      "  pd.tslib.Timestamp,\n",
      "/home/deva/anaconda2/lib/python2.7/site-packages/ggplot/stats/smoothers.py:4: FutureWarning: The pandas.lib module is deprecated and will be removed in a future version. These are private functions and can be accessed from pandas._libs.lib instead\n",
      "  from pandas.lib import Timestamp\n",
      "/home/deva/anaconda2/lib/python2.7/site-packages/statsmodels/compat/pandas.py:56: FutureWarning: The pandas.core.datetools module is deprecated and will be removed in a future version. Please use the pandas.tseries module instead.\n",
      "  from pandas.core import datetools\n"
     ]
    }
   ],
   "source": [
    "from ggplot import  *"
   ]
  },
  {
   "cell_type": "code",
   "execution_count": 4,
   "metadata": {
    "collapsed": true
   },
   "outputs": [],
   "source": [
    "nl_cols = ['DN_0',\n",
    "'DN_1',\n",
    "'DN_10',\n",
    "'DN_11',\n",
    "'DN_12',\n",
    "'DN_13',\n",
    "'DN_14',\n",
    "'DN_15',\n",
    "'DN_16',\n",
    "'DN_17',\n",
    "'DN_18',\n",
    "'DN_19',\n",
    "'DN_2',\n",
    "'DN_20',\n",
    "'DN_21',\n",
    "'DN_22',\n",
    "'DN_23',\n",
    "'DN_24',\n",
    "'DN_25',\n",
    "'DN_26',\n",
    "'DN_27',\n",
    "'DN_28',\n",
    "'DN_29',\n",
    "'DN_3',\n",
    "'DN_30',\n",
    "'DN_31',\n",
    "'DN_32',\n",
    "'DN_33',\n",
    "'DN_34',\n",
    "'DN_35',\n",
    "'DN_36',\n",
    "'DN_37',\n",
    "'DN_38',\n",
    "'DN_39',\n",
    "'DN_4',\n",
    "'DN_40',\n",
    "'DN_41',\n",
    "'DN_42',\n",
    "'DN_43',\n",
    "'DN_44',\n",
    "'DN_45',\n",
    "'DN_46',\n",
    "'DN_47',\n",
    "'DN_48',\n",
    "'DN_49',\n",
    "'DN_5',\n",
    "'DN_50',\n",
    "'DN_51',\n",
    "'DN_52',\n",
    "'DN_53',\n",
    "'DN_54',\n",
    "'DN_55',\n",
    "'DN_56',\n",
    "'DN_57',\n",
    "'DN_58',\n",
    "'DN_59',\n",
    "'DN_6',\n",
    "'DN_60',\n",
    "'DN_61',\n",
    "'DN_62',\n",
    "'DN_63',\n",
    "'DN_7',\n",
    "'DN_8',\n",
    "'DN_9']"
   ]
  },
  {
   "cell_type": "code",
   "execution_count": 5,
   "metadata": {
    "collapsed": true
   },
   "outputs": [],
   "source": [
    "modi_var = ['Water',\n",
    " 'Evergreen Needleleaf forest',\n",
    " 'Evergreen Broadleaf forest',\n",
    " 'Deciduous Needleleaf forest',\n",
    " 'Deciduous Broadleaf forest',\n",
    " 'Mixed forest',\n",
    " 'Closed shrublands',\n",
    " 'Open shrublands',\n",
    " 'Woody savannas',\n",
    " 'Savannas',\n",
    " 'Grasslands',\n",
    " 'Permanent wetlands',\n",
    " 'Croplands',\n",
    " 'Urban and built-up',\n",
    " 'Cropland/Natural vegetation mosaic',\n",
    " 'Barren or sparsely vegetated']"
   ]
  },
  {
   "cell_type": "code",
   "execution_count": 6,
   "metadata": {
    "collapsed": true
   },
   "outputs": [],
   "source": [
    "labels = ['Village_HHD_Cluster_MSL','Village_HHD_Cluster_MSW','Village_HHD_Cluster_CHH','Village_HHD_Cluster_FC','Village_HHD_Cluster_BF','Village_HHD_Cluster_EMP']"
   ]
  },
  {
   "cell_type": "code",
   "execution_count": 9,
   "metadata": {
    "collapsed": true
   },
   "outputs": [],
   "source": [
    "needed_var = ['UID',\n",
    "'village_code_2011',\n",
    "'TRU',\n",
    "'Village_HHD_Cluster_MSL',\n",
    "'District_HHD_Cluster_MSL',\n",
    "'Village_HHD_Cluster_MSW',\n",
    "'District_HHD_Cluster_MSW',\n",
    "'Village_HHD_Cluster_CHH',\n",
    "'District_HHD_Cluster_CHH',\n",
    "'Village_HHD_Cluster_FC',\n",
    "'District_HHD_Cluster_FC',\n",
    "'Village_HHD_Cluster_BF',\n",
    "'District_HHD_Cluster_BF',\n",
    "'Village_HHD_Cluster_EMP',\n",
    "'District_HHD_Cluster_EMP',\n",
    "'Area',\n",
    "'logMean',\n",
    "'logSum',\n",
    "'AvgUrbanNTL',\n",
    "'CropRatio',\n",
    "'CropRemainRatio',\n",
    "'Cropland/Natural vegetation mosaic',\n",
    "'Croplands',\n",
    "'Natural',\n",
    "'UrbanRatio',\n",
    "'grass_shrubs',\n",
    "'mod_Cropland/Natural vegetation mosaic',\n",
    "'mod_Croplands',\n",
    "'mod_grass_shrubs',\n",
    "'mod_Urban and built-up',\n",
    "'MSL_1',\n",
    "'MSL_2',\n",
    "'MSL_3',\n",
    "'MSW_1',\n",
    "'MSW_2',\n",
    "'MSW_3',\n",
    "'CHH_1',\n",
    "'CHH_2',\n",
    "'CHH_3',\n",
    "'CHH_4',\n",
    "'FC_1',\n",
    "'FC_2',\n",
    "'FC_3',\n",
    "'BF_1',\n",
    "'BF_2',\n",
    "'BF_3',\n",
    "'EMP_1',\n",
    "'EMP_2',\n",
    "'EMP_3']"
   ]
  },
  {
   "cell_type": "code",
   "execution_count": null,
   "metadata": {
    "collapsed": true
   },
   "outputs": [],
   "source": []
  },
  {
   "cell_type": "code",
   "execution_count": 10,
   "metadata": {
    "collapsed": true
   },
   "outputs": [],
   "source": [
    "def get_dummies(df_):\n",
    "    for label in labels:\n",
    "        df_temp = pd.get_dummies(df_[label])\n",
    "        df_temp.columns = [label[20:]+'_'+str(i+1) for i in range(len(df_[label].unique()))]\n",
    "        df_ = pd.concat([df_,df_temp],axis=1)\n",
    "    return df_"
   ]
  },
  {
   "cell_type": "code",
   "execution_count": 11,
   "metadata": {
    "collapsed": true
   },
   "outputs": [],
   "source": [
    "## finding the area:"
   ]
  },
  {
   "cell_type": "code",
   "execution_count": 12,
   "metadata": {
    "collapsed": true
   },
   "outputs": [],
   "source": [
    "def find_Area(df_):\n",
    "    df_['Area'] = df_[nl_cols].sum(axis=1)\n",
    "    df_ = df_.loc[df_['Area'] > 0]\n",
    "    return df_"
   ]
  },
  {
   "cell_type": "code",
   "execution_count": 13,
   "metadata": {
    "collapsed": true
   },
   "outputs": [],
   "source": [
    "## building features out of modis data"
   ]
  },
  {
   "cell_type": "code",
   "execution_count": 14,
   "metadata": {
    "collapsed": true
   },
   "outputs": [],
   "source": [
    "def modis_newFeature(df_):\n",
    "    df_['Urban and built-up']=df_['Urban and built-up']+1\n",
    "    df_['CropRatio']=(df_['Croplands']+df_['Cropland/Natural vegetation mosaic'])/df_['Area']\n",
    "    df_['AvgUrbanNTL']=df_['sum']/df_['Urban and built-up']\n",
    "    df_['UrbanRatio']= df_['Urban and built-up']/df_['Area']\n",
    "\n",
    "    df_['Natural']= 0\n",
    "    for i in ['Water','Evergreen Needleleaf forest','Evergreen Broadleaf forest','Deciduous Needleleaf forest','Deciduous Broadleaf forest','Mixed forest','Closed shrublands','Open shrublands','Woody savannas','Savannas','Grasslands','Permanent wetlands']:\n",
    "        df_['Natural']=df_['Natural']+df_[i]\n",
    "\n",
    "    df_['CropRemainRatio']=(df_['Croplands']+df_['Cropland/Natural vegetation mosaic'])/(df_['Area']-df_['Natural'])\n",
    "    df_['UrbanRemainRatio']=df_['Urban and built-up']/(df_['Area']-df_['Natural'])\n",
    "    #df_['UrbanRatio']=df_['UrbanRatio'].fillna(0)\n",
    "    \n",
    "    df_['forest'] = df_[modi_var[1:6]].sum(axis=1)\n",
    "    \n",
    "    #grass_shrubs consists of shrblands,savansas and grasslands\n",
    "    df_['grass_shrubs'] = df_[modi_var[6:11]].sum(axis=1)\n",
    "        \n",
    "    df_['wet'] = df_[['Water', 'Permanent wetlands']].sum(axis=1)\n",
    "    for i in modi_var+['Natural','forest','grass_shrubs','wet']:\n",
    "        df_['mod_'+i]=df_[i]/df_['Area']\n",
    "    return df_"
   ]
  },
  {
   "cell_type": "code",
   "execution_count": 15,
   "metadata": {
    "collapsed": true
   },
   "outputs": [],
   "source": [
    "def to_logSumMean(df_):\n",
    "    df_['sum'][df_['sum'] < 1]  = 1\n",
    "    df_['mean'][df_['mean'] < 1] = 1\n",
    "    df_['logSum'] = np.log(df_['sum'].values)\n",
    "    df_['logMean'] = np.log(df_['mean'].values)\n",
    "    return df_"
   ]
  },
  {
   "cell_type": "code",
   "execution_count": 8,
   "metadata": {
    "collapsed": true
   },
   "outputs": [],
   "source": [
    "set_names  = ['vill_train_all.csv','vill_cv_all.csv','vill_test_all.csv']"
   ]
  },
  {
   "cell_type": "code",
   "execution_count": 17,
   "metadata": {},
   "outputs": [
    {
     "name": "stdout",
     "output_type": "stream",
     "text": [
      "reading the train set .....\n",
      "transforming from multinomial to binomial...\n",
      "find the area under that village ... \n",
      "constructing MODIS new featrues....\n",
      "taking log of sum and mean.....\n",
      "now saving the needed variabeles in file vill_train_forML.csv\n"
     ]
    },
    {
     "name": "stderr",
     "output_type": "stream",
     "text": [
      "/home/deva/anaconda2/lib/python2.7/site-packages/ipykernel_launcher.py:2: SettingWithCopyWarning: \n",
      "A value is trying to be set on a copy of a slice from a DataFrame\n",
      "\n",
      "See the caveats in the documentation: http://pandas.pydata.org/pandas-docs/stable/indexing.html#indexing-view-versus-copy\n",
      "  \n",
      "/home/deva/anaconda2/lib/python2.7/site-packages/ipykernel_launcher.py:3: SettingWithCopyWarning: \n",
      "A value is trying to be set on a copy of a slice from a DataFrame\n",
      "\n",
      "See the caveats in the documentation: http://pandas.pydata.org/pandas-docs/stable/indexing.html#indexing-view-versus-copy\n",
      "  This is separate from the ipykernel package so we can avoid doing imports until\n"
     ]
    },
    {
     "name": "stdout",
     "output_type": "stream",
     "text": [
      "\n",
      "reading the cv set .....\n",
      "transforming from multinomial to binomial...\n",
      "find the area under that village ... \n",
      "constructing MODIS new featrues....\n",
      "taking log of sum and mean.....\n",
      "now saving the needed variabeles in file vill_cv_forML.csv\n",
      "\n",
      "reading the test set .....\n",
      "transforming from multinomial to binomial...\n",
      "find the area under that village ... \n",
      "constructing MODIS new featrues....\n",
      "taking log of sum and mean.....\n",
      "now saving the needed variabeles in file vill_test_forML.csv\n",
      "\n"
     ]
    }
   ],
   "source": [
    "for set_name in set_names:\n",
    "    print('reading the %s set .....'%(set_name[5:-8]))\n",
    "    df = pd.read_csv(set_name)\n",
    "    del df['Unnamed: 0']\n",
    "    del df['Snow and ice']\n",
    "    \n",
    "    print('transforming from multinomial to binomial...')\n",
    "    df = get_dummies(df)\n",
    "\n",
    "    print('find the area under that village ... ')\n",
    "    df = find_Area(df)\n",
    "    \n",
    "    print('constructing MODIS new featrues....')\n",
    "    df = modis_newFeature(df)\n",
    "    \n",
    "    print('taking log of sum and mean.....')\n",
    "    df = to_logSumMean(df)\n",
    "    \n",
    "    fname_finalSet = \"vill_\"+set_name[5:-8]+\"_forML.csv\"\n",
    "    print('now saving the needed variabeles in file %s'%fname_finalSet)\n",
    "    df[needed_var].to_csv(fname_finalSet,index=False)\n",
    "    print"
   ]
  },
  {
   "cell_type": "code",
   "execution_count": null,
   "metadata": {
    "collapsed": true
   },
   "outputs": [],
   "source": [
    "mod_features = ['mean',\n",
    " 'sum',\n",
    " 'Water',\n",
    " 'Permanent wetlands',\n",
    " 'Croplands',\n",
    " 'Urban and built-up',\n",
    " 'Cropland/Natural vegetation mosaic',\n",
    " 'CropRatio',\n",
    " 'AvgUrbanNTL',\n",
    " 'UrbanRatio',\n",
    " 'Natural',\n",
    " 'CropRemainRatio',\n",
    " 'UrbanRemainRatio',\n",
    " 'forest',\n",
    " 'grass_shrubs',\n",
    " 'mod_Water',\n",
    " 'mod_Permanent wetlands',\n",
    " 'mod_Croplands',\n",
    " 'mod_Urban and built-up',\n",
    " 'mod_Cropland/Natural vegetation mosaic',\n",
    " 'mod_forest',\n",
    " 'mod_grass_shrubs',\n",
    " 'mod_Natural',\n",
    " 'wet',\n",
    " 'mod_wet']"
   ]
  },
  {
   "cell_type": "code",
   "execution_count": null,
   "metadata": {
    "scrolled": false
   },
   "outputs": [],
   "source": [
    "for feature in mod_features:\n",
    "    plot = ggplot(df_train,aes(x=label,y=feature)) + geom_boxplot()+ylim(df_train[feature].quantile(.025),df_train[feature].quantile(.975))\n",
    "    fname  = feature.replace(\"/\",\"_\").replace(\" \",\"_\") + '_'+label.split(\"_\")[3]+\".png\"\n",
    "    plot.save(\"boxplots/\"+fname)"
   ]
  },
  {
   "cell_type": "code",
   "execution_count": null,
   "metadata": {
    "collapsed": true
   },
   "outputs": [],
   "source": [
    "### now extracting only the needed variables from this dataset to build a classifier...."
   ]
  },
  {
   "cell_type": "code",
   "execution_count": null,
   "metadata": {
    "collapsed": true
   },
   "outputs": [],
   "source": []
  },
  {
   "cell_type": "code",
   "execution_count": null,
   "metadata": {
    "collapsed": true
   },
   "outputs": [],
   "source": []
  },
  {
   "cell_type": "code",
   "execution_count": null,
   "metadata": {
    "collapsed": true
   },
   "outputs": [],
   "source": []
  },
  {
   "cell_type": "code",
   "execution_count": null,
   "metadata": {
    "collapsed": true
   },
   "outputs": [],
   "source": []
  },
  {
   "cell_type": "code",
   "execution_count": null,
   "metadata": {
    "collapsed": true
   },
   "outputs": [],
   "source": []
  },
  {
   "cell_type": "code",
   "execution_count": null,
   "metadata": {
    "collapsed": true
   },
   "outputs": [],
   "source": []
  }
 ],
 "metadata": {
  "kernelspec": {
   "display_name": "Python 2",
   "language": "python",
   "name": "python2"
  },
  "language_info": {
   "codemirror_mode": {
    "name": "ipython",
    "version": 2
   },
   "file_extension": ".py",
   "mimetype": "text/x-python",
   "name": "python",
   "nbconvert_exporter": "python",
   "pygments_lexer": "ipython2",
   "version": "2.7.14"
  }
 },
 "nbformat": 4,
 "nbformat_minor": 2
}
